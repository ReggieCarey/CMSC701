{
 "cells": [
  {
   "cell_type": "code",
   "execution_count": 4,
   "metadata": {},
   "outputs": [],
   "source": [
    "from genomics import *"
   ]
  },
  {
   "cell_type": "markdown",
   "metadata": {},
   "source": [
    "# My Study Questions for the Midterm Exam"
   ]
  },
  {
   "cell_type": "markdown",
   "metadata": {},
   "source": [
    "## 2 Quick introduction to biological sequences\n",
    "### 2.7 Exercises\n",
    "1. How many open reading frames are present in the following DNA sequence (assume the start codon ATG and the stop codon TAA)? Please highlight where all these ORFs occur. ATGCATCATGGATGTTAATGTAACCGTCTAACTAA\n",
    "\n",
    "\n",
    "2. A \"palindrome\" is a DNA sequence that is equal to its reverse complement. Please construct a palindrome of length 8 that uses all of the 4 DNA letters.\n",
    "\n",
    "\n",
    "3. Assume you are trying to find out more information about a particular gene (say gene oprD) and the corresponding protein product. Which online biological database would you start with? (note: wikipedia is not an appropriate answer)\n",
    "\n",
    "\n",
    "4. Identify the longest open reading frame (ORF) in the following DNA sequence (note: start codon ATG, stop codons TAG, TGA, TAA)   \n",
    "ATGATATGATGTCACAGGATGTAGATGCTCCGACATAAGCTTAG\n",
    "\n",
    "\n",
    "    Pick one position in the ORF found above and indicate which type of mutation (insertion, deletion, or mutation) would be called a \"frame-shift mutation\". Briefly explain why."
   ]
  },
  {
   "cell_type": "code",
   "execution_count": 5,
   "metadata": {},
   "outputs": [
    {
     "data": {
      "text/plain": [
       "'TATTTAGCTGCG'"
      ]
     },
     "execution_count": 5,
     "metadata": {},
     "output_type": "execute_result"
    }
   ],
   "source": [
    "add_codon(12)"
   ]
  },
  {
   "cell_type": "markdown",
   "metadata": {},
   "source": [
    "1) There are 4 possible ORFs in the provided DNA sequence\n",
    "```\n",
    "ATGCATCATGGATGTTAATGTAACCGTCTAACTAA\n",
    "^^^^^^^^^^^^^^^^^^\n",
    "ATGCATCATGGATGTTAATGTAACCGTCTAACTAA\n",
    "       ^^^^^^^^^^^^^^^^^^^^^^^^\n",
    "ATGCATCATGGATGTTAATGTAACCGTCTAACTAA\n",
    "           ^^^^^^^^^^^^\n",
    "ATGCATCATGGATGTTAATGTAACCGTCTAACTAA\n",
    "                 ^^^^^^\n",
    "```\n",
    "2) ACGTACGT\n",
    "\n",
    "3) blast.ncbi.nlm.nih.gov\n",
    "\n",
    "4) ATGATATGATGTCACAGGATGTAGATGCTCCGACATAAGCTTAG\n"
   ]
  },
  {
   "cell_type": "code",
   "execution_count": 16,
   "metadata": {},
   "outputs": [
    {
     "name": "stdout",
     "output_type": "stream",
     "text": [
      "SKIPPED NUCLEOTIDES: 10 to 18\n",
      "    1 : UGUCACAGG                                                              : 9    \n",
      "PEPTIDE SEQUENCE W/O END CODON AG\n"
     ]
    },
    {
     "data": {
      "text/plain": [
       "['MI', 'M', 'MLRHKL']"
      ]
     },
     "execution_count": 16,
     "metadata": {},
     "output_type": "execute_result"
    }
   ],
   "source": [
    "dna = \"ATG ATA TGA TGTCACAGGATGTAGATGCTCCGACATAAGCTTAG\"\n",
    "rna = transcribe_dna_to_rna(dna)\n",
    "pp1 = translate_rna(rna)\n",
    "pp1"
   ]
  },
  {
   "cell_type": "code",
   "execution_count": null,
   "metadata": {},
   "outputs": [],
   "source": []
  }
 ],
 "metadata": {
  "kernelspec": {
   "display_name": "Python 3",
   "language": "python",
   "name": "python3"
  },
  "language_info": {
   "codemirror_mode": {
    "name": "ipython",
    "version": 3
   },
   "file_extension": ".py",
   "mimetype": "text/x-python",
   "name": "python",
   "nbconvert_exporter": "python",
   "pygments_lexer": "ipython3",
   "version": "3.6.5"
  }
 },
 "nbformat": 4,
 "nbformat_minor": 2
}
