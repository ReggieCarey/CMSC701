{
 "cells": [
  {
   "cell_type": "markdown",
   "metadata": {},
   "source": [
    "# Genetics"
   ]
  },
  {
   "cell_type": "code",
   "execution_count": 1,
   "metadata": {},
   "outputs": [],
   "source": [
    "from genomics import *"
   ]
  },
  {
   "cell_type": "code",
   "execution_count": 2,
   "metadata": {},
   "outputs": [
    {
     "data": {
      "text/plain": [
       "'TACGTAGAGCAA'"
      ]
     },
     "execution_count": 2,
     "metadata": {},
     "output_type": "execute_result"
    }
   ],
   "source": [
    "add_codon(12)"
   ]
  },
  {
   "cell_type": "markdown",
   "metadata": {},
   "source": [
    "# TODO\n",
    "\n",
    "#### Eukaryotic 5'UTR sequence\n",
    "\n",
    "##### Kozak consensus sequence\n",
    "\n",
    "ACCAUGG\n",
    "\n",
    "The Kozak consensus sequence, Kozak consensus or Kozak sequence is a sequence which occurs on eukaryotic mRNA and has the consensus (gcc)gccRccAUGG. The Kozak consensus sequence plays a major role in the initiation of the translation process.[1] The sequence was named after the scientist who discovered it, Marilyn Kozak.\n",
    "\n",
    "The sequence is identified by the notation (gcc)gccRccAUGG, which summarizes data analysed by Kozak from a wide variety of sources (about 699 in all)[2] as follows:\n",
    "\n",
    "a lower-case letter denotes the most common base at a position where the base can nevertheless vary;\n",
    "upper-case letters indicate highly conserved bases, i.e. the 'AUGG' sequence is constant or rarely, if ever, changes, with the exception being the IUPAC ambiguity code [3] 'R' which indicates that a purine (adenine or guanine) is always observed at this position (with adenine being claimed by Kozak to be more frequent); and\n",
    "the sequence in parentheses (gcc) is of uncertain significance.\n",
    "\n",
    "## Variations in the consensus sequence\n",
    "\n",
    "The Kozak consensus has been variously described as:<ref>{{cite journal |last1=Tang |first1=Sen-Lin |last2=Chang |first2=Bill C.H. |last3=Halgamuge |first3=Saman K. |title=Gene functionality's influence on the second codon: A large-scale survey of second codon composition in three domains |journal=Genomics |date=August 2010 |volume=96 |issue=2 |pages=92–101 |doi=10.1016/j.ygeno.2010.04.001 |url=https://www.sciencedirect.com/science/article/pii/S0888754310000984 |accessdate=3 August 2018}}</ref>\n",
    "```\n",
    " (gcc)gccRccAUGG (Kozak 1987)\n",
    "        AGNNAUGN\n",
    "         ANNAUGG\n",
    "         ACCAUGG (Spotts et al., 1997, mentioned in Kozak 2002)\n",
    "      GACACCAUGG (''H. sapiens HBB, HBD'', ''R. norvegicus Hbb'', etc.) \n",
    "```"
   ]
  },
  {
   "cell_type": "code",
   "execution_count": 3,
   "metadata": {},
   "outputs": [
    {
     "name": "stdout",
     "output_type": "stream",
     "text": [
      "ATGAAGATGGATCGCCACGCTCTCACTACGGCGGTTGCAGAGGAAAGCACGAAGCATCTTTACTAGAATAAAATGGGCTATTATCCACCGATGTACGCATGTCGGCTGCGAAATGTCAAGCAGGCAGTACCCGCATAGAATAAAATGGGATTCAATGGCTTTCGGCTGGGGGGGCTTCAATTCATCCGGGTGTCTGGATTACTGCACTGAAATAAAATGCGACTGCCCCTGCGAAATCGCCCGCCATTCATGTTCCTCAAACTCGGAGTACTTCCATCTTGAAATAAAATGAAGGGTGCATCCTCCGTCTCCGCTATTCTTCGTTACGACCGCTTGGTTTGCCGGGGGGCGTAGAATAAAATGCAAGCGAACCAACTCATTCTGTCACGCAAGTTCATCTTCATCAGTTGGGCGGCGCGATGTTGAAATAAAATGCCTCCGCGATGTTTCCACGCGAAGCCTACTCGATTTTGGAGCTGCGGTCGCTACGGTATGTAAAATAAAATGCTCCGCATGTGCCAATTGGGCGTGTGTCGTGTGTTACAGGAGCGGAGAGGGGTGGGACGATGAAATAAAATGAAGCTTGTCATTGGAAAGGTGGCACGGGGATGCGACAACCGTTCCAGCTACGAGTGCGATTGAAATAAAATGCGAGTCACCACCACTGCCAAGCCTGCAACTATCTCGAGTCAGGAGCGTCGGGGTGGTTGGTGAAATAAA\n"
     ]
    }
   ],
   "source": [
    "print(generate_dna())"
   ]
  },
  {
   "cell_type": "code",
   "execution_count": 4,
   "metadata": {},
   "outputs": [
    {
     "name": "stdout",
     "output_type": "stream",
     "text": [
      "AUGAAUAUUAUGGCUCGGUAUUUUGGCCGUGGAGACUAUACCCUUUCAUAUCGUCAGCGAGAAUAGAAUAAAAUGCUGUACAGAGACGCGCCCUAUGCAUGUAUCGAUCGAGGUGCGCCUUGGUGGUGGACACAGUAAAAUAAAAUGACGUCUUUAUGCACGCAUCAAGGUCGGCGGCUCUACCACUUGUCCGUCAAAGAGCUGCCGUAAAAUAAAAUGGGUGUUGUCAGAACACACUUCGAUGUACACAAGCUCGUUCGUGCAUGGCCUUCUGCAUGCUGAAAUAAAAUGCACUCAUCCUCGGAGCCUGCGGCGCUCACAACUCAAGGGUAUGGGAUCGGAGUUCGGACGUAAAAUAAAAUGGGAGUGCAGAACGUGGGCUGUUAUACCAGGACUUAUACAGUUCUCAAACAAAAAUGUCGGUAGAAUAAAAUGGAGCCGCGGCUCGAAAGACAGUCUUCGGCCAAGCUUCCACCUAUCCCCCAAUACCUCGGCUAGAAUAAAAUGCUCAAAUCGAGACUCAGUACCCGAACUAUGUAUCCCUACGAGUCGCCCUCGUCACUUCUGUGAAAUAAAAUGCACCGUCAAUCACUAUUGCCACCCUUUUGGGACCGAUGCCUUCCCCAAAAUGUUUGUCUGUAAAAUAAAAUGUCUUCAGAGGACGGCAUCUCGGAAUUACCGGUGGUCCAUUCGCGCAGGAUUCACAUAUCCUAGAAUAAA\n"
     ]
    }
   ],
   "source": [
    "print(transcribe_dna_to_rna(generate_dna()))"
   ]
  },
  {
   "cell_type": "code",
   "execution_count": 5,
   "metadata": {
    "scrolled": false
   },
   "outputs": [
    {
     "name": "stdout",
     "output_type": "stream",
     "text": [
      "SKIPPED NUCLEOTIDES: 286 to 291\n",
      "    1 : AAUAAA                                                                 : 6    \n",
      "SKIPPED NUCLEOTIDES: 352 to 357\n",
      "    1 : AAUAAA                                                                 : 6    \n",
      "SKIPPED NUCLEOTIDES: 502 to 507\n",
      "    1 : AAUAAA                                                                 : 6    \n",
      "SKIPPED NUCLEOTIDES: 667 to 672\n",
      "    1 : AAUAAA                                                                 : 6    \n",
      "SKIPPED NUCLEOTIDES: 889 to 894\n",
      "    1 : AAUAAA                                                                 : 6    \n",
      "SKIPPED NUCLEOTIDES: 931 to 936\n",
      "    1 : AAUAAA                                                                 : 6    \n",
      "SKIPPED NUCLEOTIDES: 991 to 996\n",
      "    1 : AAUAAA                                                                 : 6    \n",
      "SKIPPED NUCLEOTIDES: 1189 to 1194\n",
      "    1 : AAUAAA                                                                 : 6    \n",
      "SKIPPED NUCLEOTIDES: 1231 to 1236\n",
      "    1 : AAUAAA                                                                 : 6    \n",
      "DNA\n",
      "ATGGCGTACGTCTTTGTGCTGTTGGACATGCCGTCGGCACCGTTATTTACCGTCCAACGTTTGCAGGATTCTGGACGGGGTCCAGGAGCACAACAACGTACAACAGAATCGGACAGATTCATATCGAAGGGCCTCAGACTGCTCGTGTTTACAGGCGGGACATGTTCGACACTTTTTCTGCTTGCACCCAGCGGAATTCCCGTACCTTCTCACAAACCGCGAGTATGTTCCCCCCTCATATGGGTTTCCCGTGGGTCGACATGGGTCGATGGGAAGACCATGTAGAATAAAATGTACCGGGCATCGGACCAGGTCAAGCAGGTTCCTTCAGAACTCACCTATCGTGTTTGAAATAAAATGAAATATCTTGTCAACCCATGTGGCGGCCATTCAAGCTATTCTCAGCGTATCCACAACAAAGAGACATTTGCACCACCTGCAATCTTCGCACCATCAAAGCGGAGAAGTTGGTTTTCAATCAGCTGGGATCCATCTTTATGAAATAAAATGGGATATGGCCAAAAAATCACGTCCTTTTGTACTTCACCAAACGTCAACGACACTTACCCTGTACATATGGGACATGCAAATCGCCTACGTTCCGACCGTCCCCCAGCGGTGTTTACAACATCTGTTCTGCAGCGGGATTCGTACTTGTCTGCATAGAATAAAATGCCATACGGTGGATTTTTCACCCCACAATACTGCGATCATCGACTGTCTGGGTTTATCGAGGAGAGGGGGAGATCACCGGCCCAGAGGAGAAGTCTGCAAGCTTTACGAGGAAGGTCATATCCGAAACGAGGGGTTCGGGAAGCGTGCCATGCGACTCTACGTCAAGGCCAACACGGGGAAGATTTACCTCCTTACATTCTCACGGATTGGTAAAATAAAATGATTCTACCACCCAGCCCATCGGAACTGCGATAGAATAAAATGCCTGTCCATGGGGACAAGTTACGGACGAGGACCTGCGGCCTGCCCCTCTAGAATAAAATGGCCAAGGGATATACGAACACAGACAAGCCCCAAGTATTTATCACAAGAGTTCTTTCATGTACTCCTCTTTGTGGGAGACCGCCCGGTCCCGATGCGACAGACCATGGGGAGCTCTTACCAGGTTCGAGTCGCCAGGCAGGGCAGTGGATTCGACTGGTGTGCAGAGGTTGCCTGGGGCCCCCTATATAGAATAAAATGACTCAAGCGCGCCTACACTCAGGTGGCGCGTAGAATAAAATGCGTACCCATCTCGCTGGTGCCGCCCTTCCTCAGCAGAGATGTCGTTGGACCCCACGTCGATAAAATAAA\n",
      "\n",
      "mRNA from DNA via transcription\n",
      "AUGGCGUACGUCUUUGUGCUGUUGGACAUGCCGUCGGCACCGUUAUUUACCGUCCAACGUUUGCAGGAUUCUGGACGGGGUCCAGGAGCACAACAACGUACAACAGAAUCGGACAGAUUCAUAUCGAAGGGCCUCAGACUGCUCGUGUUUACAGGCGGGACAUGUUCGACACUUUUUCUGCUUGCACCCAGCGGAAUUCCCGUACCUUCUCACAAACCGCGAGUAUGUUCCCCCCUCAUAUGGGUUUCCCGUGGGUCGACAUGGGUCGAUGGGAAGACCAUGUAGAAUAAAAUGUACCGGGCAUCGGACCAGGUCAAGCAGGUUCCUUCAGAACUCACCUAUCGUGUUUGAAAUAAAAUGAAAUAUCUUGUCAACCCAUGUGGCGGCCAUUCAAGCUAUUCUCAGCGUAUCCACAACAAAGAGACAUUUGCACCACCUGCAAUCUUCGCACCAUCAAAGCGGAGAAGUUGGUUUUCAAUCAGCUGGGAUCCAUCUUUAUGAAAUAAAAUGGGAUAUGGCCAAAAAAUCACGUCCUUUUGUACUUCACCAAACGUCAACGACACUUACCCUGUACAUAUGGGACAUGCAAAUCGCCUACGUUCCGACCGUCCCCCAGCGGUGUUUACAACAUCUGUUCUGCAGCGGGAUUCGUACUUGUCUGCAUAGAAUAAAAUGCCAUACGGUGGAUUUUUCACCCCACAAUACUGCGAUCAUCGACUGUCUGGGUUUAUCGAGGAGAGGGGGAGAUCACCGGCCCAGAGGAGAAGUCUGCAAGCUUUACGAGGAAGGUCAUAUCCGAAACGAGGGGUUCGGGAAGCGUGCCAUGCGACUCUACGUCAAGGCCAACACGGGGAAGAUUUACCUCCUUACAUUCUCACGGAUUGGUAAAAUAAAAUGAUUCUACCACCCAGCCCAUCGGAACUGCGAUAGAAUAAAAUGCCUGUCCAUGGGGACAAGUUACGGACGAGGACCUGCGGCCUGCCCCUCUAGAAUAAAAUGGCCAAGGGAUAUACGAACACAGACAAGCCCCAAGUAUUUAUCACAAGAGUUCUUUCAUGUACUCCUCUUUGUGGGAGACCGCCCGGUCCCGAUGCGACAGACCAUGGGGAGCUCUUACCAGGUUCGAGUCGCCAGGCAGGGCAGUGGAUUCGACUGGUGUGCAGAGGUUGCCUGGGGCCCCCUAUAUAGAAUAAAAUGACUCAAGCGCGCCUACACUCAGGUGGCGCGUAGAAUAAAAUGCGUACCCAUCUCGCUGGUGCCGCCCUUCCUCAGCAGAGAUGUCGUUGGACCCCACGUCGAUAAAAUAAA\n",
      "\n",
      "Proteins from mRNA via translation\n",
      "MAYVFVLLDMPSAPLFTVQRLQDSGRGPGAQQRTTESDRFISKGLRLLVFTGGTCSTLFLLAPRGIPVPSHKPRVCSPLIWVSRGSTWVDGKTM\n",
      "MYRASDQVKQVPSELTYRV\n",
      "MKYLVNPCGGHSRYSQRIHNKETFAPPAIFAPSKRRRWFSIRWDPSL\n",
      "MGYGQKITSFCTSPNVNDTYPVHMGHANRLRSDRPPAVFTTSVLQRDSYLSA\n",
      "MPYGGFFTPQYCDHRLSGFIEERGRSPAQRRRLQALRGRSYPKRGVREACHATLRQGQHGEDLPPYILTDW\n",
      "MILPPRPSELR\n",
      "MPVHGDKLRTRTCGLPL\n",
      "MAKGYTNTDKPQVFITRVLSCTPLCGRPPGPDATDHGELLPGSRRQAGQWIRLVCRGCLGPPI\n",
      "MTQARLHSGGA\n",
      "MRTHLAGAALPQQRCRWTPRR\n",
      "\n",
      "Angiotensin-1\n",
      "Asp-Arg-Val-Tyr-Ile-His-Pro-Phe-His-Leu\n",
      "DRVYIHPFHL\n",
      ">NP_000020.1:34-43 angiotensinogen preproprotein [Homo sapiens]\n",
      "DRVYIHPFHL\n"
     ]
    }
   ],
   "source": [
    "codon_count = lambda x: random.randint(10,100)\n",
    "\n",
    "sequence = generate_dna(10, codon_count)\n",
    "rna = transcribe_dna_to_rna(sequence)\n",
    "proteins = translate_rna(rna)\n",
    "\n",
    "print(\"DNA\")\n",
    "print(sequence)\n",
    "print()\n",
    "\n",
    "print(\"mRNA from DNA via transcription\")\n",
    "print(rna)\n",
    "print()\n",
    "\n",
    "print(\"Proteins from mRNA via translation\")\n",
    "for protein in proteins:\n",
    "    print(protein)\n",
    "print()\n",
    "\n",
    "print(\"Angiotensin-1\")\n",
    "print(\"Asp-Arg-Val-Tyr-Ile-His-Pro-Phe-His-Leu\")\n",
    "print(\"DRVYIHPFHL\")\n",
    "print(\">NP_000020.1:34-43 angiotensinogen preproprotein [Homo sapiens]\")\n",
    "print(\"DRVYIHPFHL\")"
   ]
  },
  {
   "cell_type": "code",
   "execution_count": 8,
   "metadata": {},
   "outputs": [
    {
     "name": "stdout",
     "output_type": "stream",
     "text": [
      "SKIPPED NUCLEOTIDES: 1 to 40\n",
      "    1 : GAAGAAGCUGCCGUUGUUCUGGGUACUACAGCAGAAGGGU                               : 40   \n",
      "SKIPPED NUCLEOTIDES: 1499 to 1593\n",
      "    1 : GGCCAGGGCCCCAGAACACAGUGCCUGGCAAGGCCUCUGCCCCUGGCCUUUGAGGCAAAGGCCAGCAGCA : 70   \n",
      "   71 : GAUAACAACCCCGGACAAAUCAGCG                                              : 95   \n",
      "SKIPPED NUCLEOTIDES: 1699 to 1716\n",
      "    1 : AAGCCUGCAGCGGCACAA                                                     : 18   \n",
      "SKIPPED NUCLEOTIDES: 1834 to 1933\n",
      "    1 : AACAAAAAAGUGUUCCCUUUUCAAGUUGAGAACAAAAAUUGGGUUUUAAAAUUAAAGUAUACAUUUUUGC : 70   \n",
      "   71 : AUUGCCUUCGGUUUGUAUUUAGUGUCUUGA                                         : 100  \n",
      "SKIPPED NUCLEOTIDES: 1940 to 1943\n",
      "    1 : GAAC                                                                   : 4    \n",
      "SKIPPED NUCLEOTIDES: 1959 to 1987\n",
      "    1 : UGUCUGUAAUACCUUAGUUUUUUCCACAG                                          : 29   \n",
      "SKIPPED NUCLEOTIDES: 2033 to 2044\n",
      "    1 : AUUUCUGUUUGA                                                           : 12   \n",
      "PEPTIDE SEQUENCE W/O END CODON \n",
      "\n",
      ">NM_000029.4 Homo sapiens angiotensinogen (AGT), mRNA\n",
      "\n",
      "BEGIN PROTEIN SEQUENCES\n",
      "\n",
      ">RBC_000000.00 1:485 NM_000029.4 Homo sapiens angiotensinogen (AGT), mRNA\n",
      "MRKRAPQSEMAPAGVRLRATILCLLAWAGLAAGDRVYIHPFHLVIHNERTCEQLAKANAGKPKDPTFIPA\n",
      "PIQAKTSPVDEKALQDQLVLVAAKLDTEDKLRAAMVGMLANFLGFRIYGMHRELWGVVHGATVLSPTAVF\n",
      "GTLASLYLGALDHTADRLQAILGVPWKDKNCTSRLDAHKVLSALQAVQGLLVAQGRADRQAQLLLSTVVG\n",
      "VFTAPGLHLKQPFVQGLALYTPVVLPRSLDFTELDVAAEKIDRFMQAVTGWKTGCSLMGARVDRTLAFNT\n",
      "YVHFQGKMKGFSLLAEPQEFWVDNRTSVSVPMLSGMGTFQHWRDIQDNFSVTQVPFTERACLLLIQPHYA\n",
      "SDLDKVEGLTFQQNSLNWMKKLSPRTIHLTMPQLVLQGSYDLQDLLAQAELPAILHTELNLQKLRNDRIR\n",
      "VGEVLNRIFFELEADEREPTESTQQLNKPEVLEVTLNRPFLFAVYDQRATALHFLGRVANPLRTA\n",
      ">RBC_000000.01 1:34 NM_000029.4 Homo sapiens angiotensinogen (AGT), mRNA\n",
      "MCHPQSPTFSSNESTLRWKAAVSPWSKCAAWREQ\n",
      ">RBC_000000.02 1:38 NM_000029.4 Homo sapiens angiotensinogen (AGT), mRNA\n",
      "MHLPVCWVYFREWGWGGKNQCLARDYCSKKNSNRPACL\n",
      ">RBC_000000.03 1:1 NM_000029.4 Homo sapiens angiotensinogen (AGT), mRNA\n",
      "M\n",
      ">RBC_000000.04 1:4 NM_000029.4 Homo sapiens angiotensinogen (AGT), mRNA\n",
      "MTSV\n",
      ">RBC_000000.05 1:14 NM_000029.4 Homo sapiens angiotensinogen (AGT), mRNA\n",
      "MLVIFEQYVKDART\n",
      ">RBC_000000.06 1:24 NM_000029.4 Homo sapiens angiotensinogen (AGT), mRNA\n",
      "MRNHRWLFLPCVRNKRLATIRLQK\n"
     ]
    }
   ],
   "source": [
    "seq = openFasta(\"Angiotensinogen.fa\")\n",
    "for key in seq:\n",
    "    rna = transcribe_dna_to_rna(seq[key])\n",
    "    polypeptides = translate_rna(rna)\n",
    "    if polypeptides:\n",
    "        print()\n",
    "        print(key)\n",
    "        print()\n",
    "        print(\"BEGIN PROTEIN SEQUENCES\")\n",
    "        print()\n",
    "        for i,p in enumerate(polypeptides):\n",
    "            print(f\">RBC_000000.0{i} 1:{len(p)} {key[1:]}\")\n",
    "            print_wrap(p, offsets=False)\n"
   ]
  },
  {
   "cell_type": "code",
   "execution_count": null,
   "metadata": {},
   "outputs": [],
   "source": []
  }
 ],
 "metadata": {
  "kernelspec": {
   "display_name": "Python 3",
   "language": "python",
   "name": "python3"
  },
  "language_info": {
   "codemirror_mode": {
    "name": "ipython",
    "version": 3
   },
   "file_extension": ".py",
   "mimetype": "text/x-python",
   "name": "python",
   "nbconvert_exporter": "python",
   "pygments_lexer": "ipython3",
   "version": "3.6.5"
  }
 },
 "nbformat": 4,
 "nbformat_minor": 2
}
