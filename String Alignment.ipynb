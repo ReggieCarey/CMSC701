{
 "cells": [
  {
   "cell_type": "markdown",
   "metadata": {},
   "source": [
    "# Global And Local Alignment"
   ]
  },
  {
   "cell_type": "code",
   "execution_count": 1,
   "metadata": {},
   "outputs": [],
   "source": [
    "import sys\n",
    "import numpy as np\n",
    "from collections import Counter\n",
    "import re\n",
    "from collections import defaultdict\n",
    "from functools import partial"
   ]
  },
  {
   "cell_type": "markdown",
   "metadata": {},
   "source": [
    "The score_function returns a score for a pair of characters.  These may be the same different or one may be missing.  The code supports three scoring frameworks, one where all match/mismatch/indel scores have fixed values, and one based on BLOSUM62 and the other based PAM250.  Other scoring matrices can be incorporated."
   ]
  },
  {
   "cell_type": "code",
   "execution_count": 2,
   "metadata": {},
   "outputs": [],
   "source": [
    "def score_function(score_name=\"BASIC\", A=1, B=0, C=1):\n",
    "\n",
    "    def score(a, b, indel, s):\n",
    "        \"\"\"Return the match/mismatch/indel score for the symbols a, and b.\"\"\"\n",
    "        return indel if '-' in [a,b] else s[a][b]\n",
    "    \n",
    "    if \"BLOSUM62\" == score_name:\n",
    "        inputString = \"\"\"\n",
    "               A  C  D  E  F  G  H  I  K  L  M  N  P  Q  R  S  T  V  W  Y\n",
    "            A  4  0 -2 -1 -2  0 -2 -1 -1 -1 -1 -2 -1 -1 -1  1  0  0 -3 -2\n",
    "            C  0  9 -3 -4 -2 -3 -3 -1 -3 -1 -1 -3 -3 -3 -3 -1 -1 -1 -2 -2\n",
    "            D -2 -3  6  2 -3 -1 -1 -3 -1 -4 -3  1 -1  0 -2  0 -1 -3 -4 -3\n",
    "            E -1 -4  2  5 -3 -2  0 -3  1 -3 -2  0 -1  2  0  0 -1 -2 -3 -2\n",
    "            F -2 -2 -3 -3  6 -3 -1  0 -3  0  0 -3 -4 -3 -3 -2 -2 -1  1  3\n",
    "            G  0 -3 -1 -2 -3  6 -2 -4 -2 -4 -3  0 -2 -2 -2  0 -2 -3 -2 -3\n",
    "            H -2 -3 -1  0 -1 -2  8 -3 -1 -3 -2  1 -2  0  0 -1 -2 -3 -2  2\n",
    "            I -1 -1 -3 -3  0 -4 -3  4 -3  2  1 -3 -3 -3 -3 -2 -1  3 -3 -1\n",
    "            K -1 -3 -1  1 -3 -2 -1 -3  5 -2 -1  0 -1  1  2  0 -1 -2 -3 -2\n",
    "            L -1 -1 -4 -3  0 -4 -3  2 -2  4  2 -3 -3 -2 -2 -2 -1  1 -2 -1\n",
    "            M -1 -1 -3 -2  0 -3 -2  1 -1  2  5 -2 -2  0 -1 -1 -1  1 -1 -1\n",
    "            N -2 -3  1  0 -3  0  1 -3  0 -3 -2  6 -2  0  0  1  0 -3 -4 -2\n",
    "            P -1 -3 -1 -1 -4 -2 -2 -3 -1 -3 -2 -2  7 -1 -2 -1 -1 -2 -4 -3\n",
    "            Q -1 -3  0  2 -3 -2  0 -3  1 -2  0  0 -1  5  1  0 -1 -2 -2 -1\n",
    "            R -1 -3 -2  0 -3 -2  0 -3  2 -2 -1  0 -2  1  5 -1 -1 -3 -3 -2\n",
    "            S  1 -1  0  0 -2  0 -1 -2  0 -2 -1  1 -1  0 -1  4  1 -2 -3 -2\n",
    "            T  0 -1 -1 -1 -2 -2 -2 -1 -1 -1 -1  0 -1 -1 -1  1  5  0 -2 -2\n",
    "            V  0 -1 -3 -2 -1 -3 -3  3 -2  1  1 -3 -2 -2 -3 -2  0  4 -3 -1\n",
    "            W -3 -2 -4 -3  1 -2 -2 -3 -3 -2 -1 -4 -4 -2 -3 -3 -2 -3 11  2\n",
    "            Y -2 -2 -3 -2  3 -3  2 -1 -2 -1 -1 -2 -3 -1 -2 -2 -2 -1  2  7\n",
    "            \"\"\"\n",
    "    elif \"PAM250\" == score_name:\n",
    "        inputString = \"\"\"\n",
    "               A  C  D  E  F  G  H  I  K  L  M  N  P  Q  R  S  T  V  W  Y\n",
    "            A  2 -2  0  0 -3  1 -1 -1 -1 -2 -1  0  1  0 -2  1  1  0 -6 -3\n",
    "            C -2 12 -5 -5 -4 -3 -3 -2 -5 -6 -5 -4 -3 -5 -4  0 -2 -2 -8  0\n",
    "            D  0 -5  4  3 -6  1  1 -2  0 -4 -3  2 -1  2 -1  0  0 -2 -7 -4\n",
    "            E  0 -5  3  4 -5  0  1 -2  0 -3 -2  1 -1  2 -1  0  0 -2 -7 -4\n",
    "            F -3 -4 -6 -5  9 -5 -2  1 -5  2  0 -3 -5 -5 -4 -3 -3 -1  0  7\n",
    "            G  1 -3  1  0 -5  5 -2 -3 -2 -4 -3  0  0 -1 -3  1  0 -1 -7 -5\n",
    "            H -1 -3  1  1 -2 -2  6 -2  0 -2 -2  2  0  3  2 -1 -1 -2 -3  0\n",
    "            I -1 -2 -2 -2  1 -3 -2  5 -2  2  2 -2 -2 -2 -2 -1  0  4 -5 -1\n",
    "            K -1 -5  0  0 -5 -2  0 -2  5 -3  0  1 -1  1  3  0  0 -2 -3 -4\n",
    "            L -2 -6 -4 -3  2 -4 -2  2 -3  6  4 -3 -3 -2 -3 -3 -2  2 -2 -1\n",
    "            M -1 -5 -3 -2  0 -3 -2  2  0  4  6 -2 -2 -1  0 -2 -1  2 -4 -2\n",
    "            N  0 -4  2  1 -3  0  2 -2  1 -3 -2  2  0  1  0  1  0 -2 -4 -2\n",
    "            P  1 -3 -1 -1 -5  0  0 -2 -1 -3 -2  0  6  0  0  1  0 -1 -6 -5\n",
    "            Q  0 -5  2  2 -5 -1  3 -2  1 -2 -1  1  0  4  1 -1 -1 -2 -5 -4\n",
    "            R -2 -4 -1 -1 -4 -3  2 -2  3 -3  0  0  0  1  6  0 -1 -2  2 -4\n",
    "            S  1  0  0  0 -3  1 -1 -1  0 -3 -2  1  1 -1  0  2  1 -1 -2 -3\n",
    "            T  1 -2  0  0 -3  0 -1  0  0 -2 -1  0  0 -1 -1  1  3  0 -5 -3\n",
    "            V  0 -2 -2 -2 -1 -1 -2  4 -2  2  2 -2 -1 -2 -2 -1  0  4 -6 -2\n",
    "            W -6 -8 -7 -7  0 -7 -3 -5 -3 -2 -4 -4 -6 -5  2 -2 -5 -6 17  0\n",
    "            Y -3  0 -4 -4  7 -5  0 -1 -4 -1 -2 -2 -5 -4 -4 -3 -3 -2  0 10\n",
    "            \"\"\"\n",
    "    elif \"BASIC\" == score_name:\n",
    "        return lambda a, b: -C if '-' in [a,b] else A if a == b else -B\n",
    "    else:\n",
    "        raise ValueError(\"score_name constrained to ['BASIC', 'BLOSUM62', 'PAM250']\")\n",
    "\n",
    "    # divide the inputString into lines where each line is a row from the tables above\n",
    "    lines = inputString.strip().splitlines()\n",
    "    \n",
    "    # determine the order of the amino acids repesented in the table.\n",
    "    amino_acids = \"\".join(re.split(\" +\", lines[0].strip()))\n",
    "    \n",
    "    # setup a dictionary of dictionaries to encode the matrix\n",
    "    target = defaultdict(dict)\n",
    "    \n",
    "    # step through the remaining lines and add them to the target matrix\n",
    "    for row in lines[1:]:\n",
    "        \n",
    "        # get the amino acid associated with this row and then the row values\n",
    "        rowId, *values = re.split(\" +\", row.strip())\n",
    "        \n",
    "        # put the data into the dictionary of dictionaries\n",
    "        for colId, value in zip(amino_acids, values):\n",
    "            target[rowId][colId] = int(value)\n",
    "\n",
    "    # return a function that returns a score for match/mismatch/indel based on data from the matrix \n",
    "    # and the passed in indel score, C.\n",
    "    return partial(score, indel=-C, s=target)"
   ]
  },
  {
   "cell_type": "markdown",
   "metadata": {},
   "source": [
    "An internal function _sequence_similarity, computes the sequence similarity between sequences X and Y.  It will compute either a global alignment or a local alignment."
   ]
  },
  {
   "cell_type": "code",
   "execution_count": 3,
   "metadata": {},
   "outputs": [],
   "source": [
    "def _sequence_similarity(X, Y, s, global_seq):\n",
    "    \"\"\"\n",
    "    Compute the sequence similarity between to sequences X and Y.  We return a populated matrix representing\n",
    "    the confusion between the two sequences as well as the optimal alignment data.\n",
    "    \n",
    "    This is our implementation of the Needleman-Wunsch Algorithm and the local alignment algorithm.\n",
    "    \n",
    "    Arguments\n",
    "    ---------\n",
    "    X: sequence to align\n",
    "    Y: sequence to align\n",
    "    s: a function taking a pair of parameters, the two characters to compare\n",
    "    global_seq: \n",
    "    \"\"\"\n",
    "    def maximum(*args):\n",
    "        \"\"\"\n",
    "        Given an array of tuples return a tuple where the first element is a string consisting of all first\n",
    "        elements in the array of tuples where the second element is maximal in the array. E.G.\n",
    "        maximum([('a',5),('b',3),('c',6),('d',3),('e',6)]) = ('ce',6)\n",
    "        \"\"\"\n",
    "        m = max(map(lambda sv: sv[1], args))\n",
    "        s = \"\".join(map(lambda sv: sv[0], filter(lambda sv: sv[1] == m, args)))\n",
    "        return (s, m)\n",
    "    def horzValue(i, j):\n",
    "        \"\"\"\n",
    "        Return the value of the horizontal path.\n",
    "        We use the s function to return a similarity score which will be an indel score\n",
    "        \"\"\"\n",
    "        return mat[i, j-1][1] + s('-', X[j-1])\n",
    "    def diagValue(i, j):\n",
    "        \"\"\"\n",
    "        Return the value of the diagonal path.\n",
    "        We use the s function to return a similarity score which will be a match/mismatch score\n",
    "        \"\"\"\n",
    "        return mat[i-1, j-1][1] + s(Y[i-1], X[j-1])\n",
    "    def vertValue(i, j):\n",
    "        \"\"\"\n",
    "        Return the value of the vertical path.\n",
    "        We use the s function to return a similarity score which will be an indel score\n",
    "        \"\"\"\n",
    "        return mat[i-1, j][1] + s(Y[i-1], '-')\n",
    "\n",
    "    m = len(Y) + 1\n",
    "    n = len(X) + 1\n",
    "    index = (-1, -1)\n",
    "    maxval = -sys.maxsize\n",
    "    minval = -sys.maxsize * global_seq\n",
    "    mat = np.empty((m, n), dtype=tuple)\n",
    "    for i in range(0, m):\n",
    "        mat[i, 0] = maximum((\"\", minval), (\"v\", i * s('-', '-')))\n",
    "        maxval, index = (mat[i, 0][1], (i, 0)) if mat[i, 0][1] > maxval else (maxval, index)\n",
    "    for j in range(0, n):\n",
    "        mat[0, j] = maximum((\"\", minval), (\"h\", j * s('-', '-')))\n",
    "        maxval, index = (mat[0, j][1], (0, j)) if mat[0, j][1] > maxval else (maxval, index)\n",
    "    for i in range(1, m):\n",
    "        for j in range(1, n):\n",
    "            mat[i, j] = maximum((\"\", minval), (\"h\", horzValue(i, j)), (\"d\", diagValue(i, j)), (\"v\", vertValue(i, j)))\n",
    "            maxval, index = (mat[i, j][1], (i, j)) if mat[i, j][1] > maxval else (maxval, index)\n",
    "    if global_seq:\n",
    "        index = m-1, n-1\n",
    "        maxval = mat[m-1, n-1][1]\n",
    "    return (mat, maxval, index)\n",
    "\n",
    "def global_sequence_similarity():\n",
    "    return partial(_sequence_similarity, global_seq=True)\n",
    "\n",
    "def local_sequence_similarity():\n",
    "    return partial(_sequence_similarity, global_seq=False)"
   ]
  },
  {
   "cell_type": "markdown",
   "metadata": {},
   "source": [
    "Traceback returns one of potentially many optimal alignments.  Each point where a cell has more than\n",
    "one maximal value, we have a bi or tri - furication leading to a doubling/tripling in the number of equivalent alignments observed along a particular path."
   ]
  },
  {
   "cell_type": "code",
   "execution_count": 4,
   "metadata": {},
   "outputs": [],
   "source": [
    "def global_traceback(mat, X, Y):\n",
    "    \"\"\"\n",
    "    Traceback returns one of potentially many optimal alignments.  Each point where a cell has more than\n",
    "    one maximal value, we have a bifurication leading to a doubling in the number of optimal alignments.\n",
    "    \"\"\"\n",
    "    n, m = mat.shape[1]-1, mat.shape[0]-1\n",
    "    retval = (\"\",\"\")\n",
    "    while m > 0 or n > 0:\n",
    "        a, b = (\"\",\"\")\n",
    "        if 'h' in mat[m, n][0]:\n",
    "            a, b = X[n-1], \"-\"\n",
    "            n = n - 1\n",
    "        elif 'd' in mat[m, n][0]:\n",
    "            a, b = X[n-1], Y[m-1]\n",
    "            n, m = n - 1, m - 1\n",
    "        elif 'v' in mat[m, n][0]:\n",
    "            a, b = \"-\", Y[m-1]\n",
    "            m = m - 1\n",
    "        else:\n",
    "            break\n",
    "        retval = (a + retval[0], b + retval[1])\n",
    "    return retval"
   ]
  },
  {
   "cell_type": "code",
   "execution_count": 5,
   "metadata": {},
   "outputs": [],
   "source": [
    "def local_traceback(mat, X, Y):\n",
    "    \"\"\"\n",
    "    Traceback returns one of potentially many optimal alignments.  Each point where a cell has more than\n",
    "    one maximal value, we have a bifurication leading to a doubling in the number of optimal alignments.\n",
    "    \"\"\"\n",
    "    n, m = mat.shape[1]-1, mat.shape[0]-1\n",
    "    retval = (\"\",\"\")\n",
    "    while (m > 0 or n > 0) and mat[m, n][1] > 0:\n",
    "        a, b = (\"\",\"\")\n",
    "        if 'h' in mat[m, n][0]:\n",
    "            a, b = X[n-1], \"-\"\n",
    "            n = n - 1\n",
    "        elif 'd' in mat[m, n][0]:\n",
    "            a, b = X[n-1], Y[m-1]\n",
    "            n, m = n - 1, m - 1\n",
    "        elif 'v' in mat[m, n][0]:\n",
    "            a, b = \"-\", Y[m-1]\n",
    "            m = m - 1\n",
    "        else:\n",
    "            break\n",
    "        retval = (a + retval[0], b + retval[1])\n",
    "    return retval"
   ]
  },
  {
   "cell_type": "markdown",
   "metadata": {},
   "source": [
    "Print a formatted result wraps sequences at <width> characters and identifies offsets"
   ]
  },
  {
   "cell_type": "code",
   "execution_count": 6,
   "metadata": {
    "scrolled": false
   },
   "outputs": [],
   "source": [
    "def print_formatted(traceback_results, width=100):\n",
    "    \"\"\"\n",
    "    Print a formatted result wraps sequences at <width> characters and identifies offsets\n",
    "    \"\"\"\n",
    "    \n",
    "    def chunk(s, w):\n",
    "        \"\"\"\n",
    "        Break s into w width chunks and return a list. Used to print results\n",
    "        \"\"\"\n",
    "        retval = []\n",
    "        start = 0\n",
    "        while len(s):\n",
    "            end = start + w\n",
    "            retval.append(s[start:end])\n",
    "            s = s[end:]\n",
    "        return retval\n",
    "    \n",
    "    for (alignedX, alignedY) in traceback_results:\n",
    "        s1 = 0\n",
    "        s2 = 0\n",
    "        print()\n",
    "        for (A, B) in zip(chunk(alignedX, width), chunk(alignedY, width)):\n",
    "            print(f'{s1:>5} {A}{\" \"*(width-len(A))} {(s1 + len(A) - 1):<5}')\n",
    "            print(f\"      {''.join(a if a==b else ' ' for a, b in zip(A, B))}{' '*(width-len(A))}\")\n",
    "            print(f'{s2:>5} {B}{\" \"*(width-len(B))} {(s2 + len(B) - 1):<5}')\n",
    "            print()\n",
    "            s1 += len(A)\n",
    "            s2 += len(B)"
   ]
  },
  {
   "cell_type": "markdown",
   "metadata": {},
   "source": [
    "Try data from the class notes. Dont use BLOSUM62 and set indel=-1, match=1, mismatch=0"
   ]
  },
  {
   "cell_type": "code",
   "execution_count": 7,
   "metadata": {},
   "outputs": [
    {
     "name": "stdout",
     "output_type": "stream",
     "text": [
      "1 (6, 4)\n",
      "\n",
      "    0 -AC-GC                                                                                               5    \n",
      "       AC  C                                                                                              \n",
      "    0 GACTAC                                                                                               5    \n",
      "\n"
     ]
    }
   ],
   "source": [
    "def trial_1():\n",
    "    X, Y = \"ACGC\", \"GACTAC\"\n",
    "    similarity = global_sequence_similarity()\n",
    "    mat,maxval,index = similarity(X, Y, s=score_function(\"BASIC\", C=1))\n",
    "    print(maxval,index)\n",
    "    print_formatted([global_traceback(mat[0:index[0]+1, 0:index[1]+1], X, Y)])\n",
    "    \n",
    "trial_1()"
   ]
  },
  {
   "cell_type": "markdown",
   "metadata": {},
   "source": [
    "Try data from Rosalind Question."
   ]
  },
  {
   "cell_type": "code",
   "execution_count": 8,
   "metadata": {},
   "outputs": [
    {
     "name": "stdout",
     "output_type": "stream",
     "text": [
      "8 (10, 6)\n",
      "\n",
      "    0 -ME--AN-LY                                                                                           9    \n",
      "        E  AN LY                                                                                          \n",
      "    0 PLEASANTLY                                                                                           9    \n",
      "\n"
     ]
    }
   ],
   "source": [
    "def trial_2():\n",
    "    X, Y = \"MEANLY\", \"PLEASANTLY\"\n",
    "    similarity = global_sequence_similarity()\n",
    "    mat,maxval,index = similarity(X, Y, s=score_function(\"BLOSUM62\", C=5))\n",
    "    print(maxval,index)\n",
    "    print_formatted([global_traceback(mat[0:index[0]+1, 0:index[1]+1], X, Y)])\n",
    "\n",
    "trial_2()"
   ]
  },
  {
   "cell_type": "markdown",
   "metadata": {},
   "source": [
    "Try another data set from Rosalind Question."
   ]
  },
  {
   "cell_type": "code",
   "execution_count": 9,
   "metadata": {},
   "outputs": [
    {
     "name": "stdout",
     "output_type": "stream",
     "text": [
      "1555 (734, 745)\n",
      "\n",
      "    0 ILYPRQSMICMSFCF-WD--MWKKDVPVVLMMFLERRQMQSVF-S-WL--VTVKTDCGKGIYNHR-K--Y-LGLPTMTAGDWHWIKK---Q-NDPHEWFQ 99   \n",
      "      IL PRQ M C  F    D   W      V    L   QMQ VF    L  VTVKTDC      HR K  Y LGLPTMTAGDWH IKK     N PH WFQ\n",
      "    0 ILIPRQQMGCFPFPWHFDFCFWSAHHSLVVP--LNP-QMQTVFQNRGLDRVTVKTDC----HDHRWKWIYNLGLPTMTAGDWHFIKKHVVRANNPHQWFQ 99   \n",
      "\n",
      "  100 GRLETAWLHSTFLYWKYFE-CDAVKVCMDTFGLFGHCDWDQQIHTCTHENEPAIAFLDLYCRHSPMCDKLYPVWDMACQTCHFHHSWFCRNQEMWMKGDV 199  \n",
      "      GRL TAWLHSTFLY K  E C  V           HCDWDQ IHTC       IAFLDLY RH PMCDKLY      C   HFHHSWFCRNQEM M  D \n",
      "  100 GRLTTAWLHSTFLY-KKTEYC-LVR---HS-NCC-HCDWDQIIHTCAF-----IAFLDLYQRHWPMCDKLY------C---HFHHSWFCRNQEMSM--D- 199  \n",
      "\n",
      "  200 DDWQWGYHYHTINSAQCNQWFKEICKDMGWDSVFPPRHNCQRHKKCMPALYAGIW-------MATDHACTFMVRLIYTENIAEWHQVYCYRSMNMFTCGN 299  \n",
      "        W         N  Q   WF        WDSV P R NC        ALYAGIW       M TDHACT  VRLIY      W   YCY S NM  CGN\n",
      "  200 --W---------N--Q---WFP-------WDSV-P-RANCLE-EGALIALYAGIWANSMKRDMKTDHACT--VRLIYVCELHAWLK-YCYTSINML-CGN 299  \n",
      "\n",
      "  300 VCLRCKSWIFVK-NYMMAPVVN--DPMIEAFYKRCCILGKAWYDMWGICPVERKSHWEIYAKDLLSFESCCSQKKQNCYTDNWGLEYRLFFQSIQMN-TD 399  \n",
      "      VCLRCKSWIFVK  YM APVVN         YKRCCILG       GICPVERKSH EIYAKDLLSFESCCSQK QNCYTDNWGLEYRLFFQ IQM  TD\n",
      "  300 VCLRCKSWIFVKLFYMYAPVVNTIEANSPHYYKRCCILGQ------GICPVERKSHCEIYAKDLLSFESCCSQK-QNCYTDNWGLEYRLFFQHIQMECTD 399  \n",
      "\n",
      "  400 PH----Y--CQTHVCW-ISA-MFPIYSPFY--TSG-PKE--FYM-WLQARI-DQN---MHGHANHYV-TSGNWDSVYTPEKRA--G--V-F-PV------ 499  \n",
      "      PH       CQT   W       P    FY      P     Y   L   I  QN    HGHAN    TSGNWDSVYTPEK A     V   PV      \n",
      "  400 PHANRGWTSCQTAKYWHFNLDDRPP-KEFYMWLQATPTDLCMYQHCLMFKIVKQNFRKQHGHANPAASTSGNWDSVYTPEKMAYKDWYVSHPPVDMRRNG 499  \n",
      "\n",
      "  500 --VVPVWYPPQMCN---DYIKLTYEC----E-RFHVEGTFGCNRWD-L-GC-R-RYI--IFQCPYCDTMKI---C--YVDQWRSIKEGQFRMSGYPNHGY 599  \n",
      "         VPVWYPP        Y KLTYEC      RFHVEGTFGCNRWD   G  R R     FQCPY DTM I      YVDQWRSIKEGQ  MSGYPNHG \n",
      "  500 SKMVPVWYPPGIWHWKQSY-KLTYECFFTVPGRFHVEGTFGCNRWDHQPGTRRDRQANHQFQCPYSDTMAIWEHAYTYVDQWRSIKEGQMPMSGYPNHGQ 599  \n",
      "\n",
      "  600 WFVHDDHTNEW-----CNQPVLAKFVRSKIVA---ICKKSQTVFHYAYTPGYNATWPQTNVCERMYGPHDNLLNNQQNVTFWWKMVPNCGMQILISCHNK 699  \n",
      "      W VHDDHTNE      CNQPVLAKFVRSK V    ICKKSQTVFH A      A   QTNVCERM            NVTFWW MVPNC    L SCHNK\n",
      "  600 WNVHDDHTNEQERSPICNQPVLAKFVRSKNVSNHEICKKSQTVFHWA-C---EA---QTNVCERMLN-NQHVAV-KRNVTFWWQMVPNC----LWSCHNK 699  \n",
      "\n",
      "  700 MKWPT---SHYV-F--MRLKCMHVLMQMEYLDHFTGPGEGDFCRNMQPYMHQDLHWEGSMRAILEYQAEHH-RRAFR--A--ELCAQYDQEIILWSGGWG 799  \n",
      "      M WPT    H   F  MRLKCMH     EYLD    P   DFCRNMQ YMH       SMRAILEYQA     R  R  A   LCAQYDQEIILWSGG  \n",
      "  700 MTWPTRPEQHRLFFVKMRLKCMH-----EYLD--VAPS--DFCRNMQAYMH-------SMRAILEYQADFDLKRRLRAIAPMDLCAQYDQEIILWSGGY- 799  \n",
      "\n",
      "  800 VQDCGFHANYDGSLQVVSGEPCSMWCTTVMQYYADCWEKCMFA                                                          842  \n",
      "               YD SLQVVS E CS              EKCMFA                                                         \n",
      "  800 I--------YDQSLQVVSCEGCSYYADCYVKCI-NVKEKCMFA                                                          842  \n",
      "\n"
     ]
    }
   ],
   "source": [
    "def trial_3():\n",
    "    X, Y = \"\"\"\\\n",
    "ILYPRQSMICMSFCFWDMWKKDVPVVLMMFLERRQMQSVFSWLVTVKTDCGKGIYNHRKYLGLPTMTAGDWHWIKKQNDPHEW\\\n",
    "FQGRLETAWLHSTFLYWKYFECDAVKVCMDTFGLFGHCDWDQQIHTCTHENEPAIAFLDLYCRHSPMCDKLYPVWDMACQTCH\\\n",
    "FHHSWFCRNQEMWMKGDVDDWQWGYHYHTINSAQCNQWFKEICKDMGWDSVFPPRHNCQRHKKCMPALYAGIWMATDHACTFM\\\n",
    "VRLIYTENIAEWHQVYCYRSMNMFTCGNVCLRCKSWIFVKNYMMAPVVNDPMIEAFYKRCCILGKAWYDMWGICPVERKSHWE\\\n",
    "IYAKDLLSFESCCSQKKQNCYTDNWGLEYRLFFQSIQMNTDPHYCQTHVCWISAMFPIYSPFYTSGPKEFYMWLQARIDQNMH\\\n",
    "GHANHYVTSGNWDSVYTPEKRAGVFPVVVPVWYPPQMCNDYIKLTYECERFHVEGTFGCNRWDLGCRRYIIFQCPYCDTMKIC\\\n",
    "YVDQWRSIKEGQFRMSGYPNHGYWFVHDDHTNEWCNQPVLAKFVRSKIVAICKKSQTVFHYAYTPGYNATWPQTNVCERMYGP\\\n",
    "HDNLLNNQQNVTFWWKMVPNCGMQILISCHNKMKWPTSHYVFMRLKCMHVLMQMEYLDHFTGPGEGDFCRNMQPYMHQDLHWE\\\n",
    "GSMRAILEYQAEHHRRAFRAELCAQYDQEIILWSGGWGVQDCGFHANYDGSLQVVSGEPCSMWCTTVMQYYADCWEKCMFA\"\"\", \"\"\"\\\n",
    "ILIPRQQMGCFPFPWHFDFCFWSAHHSLVVPLNPQMQTVFQNRGLDRVTVKTDCHDHRWKWIYNLGLPTMTAGDWHFIKKHVV\\\n",
    "RANNPHQWFQGRLTTAWLHSTFLYKKTEYCLVRHSNCCHCDWDQIIHTCAFIAFLDLYQRHWPMCDKLYCHFHHSWFCRNQEM\\\n",
    "SMDWNQWFPWDSVPRANCLEEGALIALYAGIWANSMKRDMKTDHACTVRLIYVCELHAWLKYCYTSINMLCGNVCLRCKSWIF\\\n",
    "VKLFYMYAPVVNTIEANSPHYYKRCCILGQGICPVERKSHCEIYAKDLLSFESCCSQKQNCYTDNWGLEYRLFFQHIQMECTD\\\n",
    "PHANRGWTSCQTAKYWHFNLDDRPPKEFYMWLQATPTDLCMYQHCLMFKIVKQNFRKQHGHANPAASTSGNWDSVYTPEKMAY\\\n",
    "KDWYVSHPPVDMRRNGSKMVPVWYPPGIWHWKQSYKLTYECFFTVPGRFHVEGTFGCNRWDHQPGTRRDRQANHQFQCPYSDT\\\n",
    "MAIWEHAYTYVDQWRSIKEGQMPMSGYPNHGQWNVHDDHTNEQERSPICNQPVLAKFVRSKNVSNHEICKKSQTVFHWACEAQ\\\n",
    "TNVCERMLNNQHVAVKRNVTFWWQMVPNCLWSCHNKMTWPTRPEQHRLFFVKMRLKCMHEYLDVAPSDFCRNMQAYMHSMRAI\\\n",
    "LEYQADFDLKRRLRAIAPMDLCAQYDQEIILWSGGYIYDQSLQVVSCEGCSYYADCYVKCINVKEKCMFA\"\"\"\n",
    "    similarity = global_sequence_similarity()\n",
    "    mat,maxval,index = similarity(X, Y, s=score_function(\"BLOSUM62\", C=5))\n",
    "    print(maxval,index)\n",
    "    print_formatted([global_traceback(mat[0:index[0]+1, 0:index[1]+1], X, Y)])\n",
    "\n",
    "trial_3()"
   ]
  },
  {
   "cell_type": "markdown",
   "metadata": {},
   "source": [
    "#### Process a BIG dataset - warning can take some time to execute"
   ]
  },
  {
   "cell_type": "code",
   "execution_count": 10,
   "metadata": {
    "scrolled": false
   },
   "outputs": [
    {
     "name": "stdout",
     "output_type": "stream",
     "text": [
      "11229\n",
      "\n",
      "    0 RYYAPL---SR--FAYHSHIQGHDCIWLKFLRHFCPEDRVTL-A------MHMAAVARVMADR-NIK-FRKF-D--DLNGCHTVLKNPDLVSMMFYFIHR 99   \n",
      "      RYYAPL       FAYHSH QGHD IWLKFLRHFCPEDRVTL A      MHMAA           K  RKF     LNGCHTVLKNPD      YF HR\n",
      "    0 RYYAPLAPCNQNAFAYHSHAQGHDNIWLKFLRHFCPEDRVTLCAGMPWMKMHMAAHMYPQPEAWTMKQIRKFWQHKNLNGCHTVLKNPD------YF-HR 99   \n",
      "\n",
      "  100 EGTFLMMVRGEKWIKSPFWFQHEGKICE------Y--NCFLHTNGAFYTIAACELKFLTQNNVPQKWSLDDGSKD-------MFQQDKNIHCPQFM-PWL 199  \n",
      "      E TFL   RG K    PFWFQHEGKIC       Y  NCFLHTN AFYTI   ELKF   N  PQKWSLDDGSKD       MFQQDKNIHCPQFM    \n",
      "  100 EQTFLVPCRG-KY-DAPFWFQHEGKICQPRAVMSYHGNCFLHTNTAFYTI---ELKF---N--PQKWSLDDGSKDFFEPPANMFQQDKNIHCPQFMINHC 199  \n",
      "\n",
      "  200 --VVMTV-FGGKDAFGHTM----Y-NP-EKIELIHFLDWQFWWWVEQAWKEVHKCDSWWIHPNMSDNLAQFPMGKKWSACHQKGRERRSTCYK---FKDW 299  \n",
      "           T  FGGKDAFGHTM      NP  KIE IHFLDWQF WW E           WWIHPNMSDNLAQFPMGKK   CHQ GRERRSTCYK    KDW\n",
      "  200 QQEENTFNFGGKDAFGHTMLVVKQTNPLIKIERIHFLDWQFDWWEEFDECDIQSFTYWWIHPNMSDNLAQFPMGKK---CHQCGRERRSTCYKIIDMKDW 299  \n",
      "\n",
      "  300 NENFVTYGYIENWADFQWWCADLNITDWEICNPSDEMGINAIGAEYWNKWYAETRWFNVVMETWINGSARMSS-HDFCFDGPWDQNPNPERPVYYGMRPQ 399  \n",
      "       ENF  YGYI    D  W CADLNITDWEICNPSDEMGI AIGA YWNKWYAET           N    M   HDFC DGPWDQNPNPERPVYYGMRPQ\n",
      "  300 HENFRAYGYIFQ-SD-AW-CADLNITDWEICNPSDEMGITAIGAGYWNKWYAETLQERTHFTGEFN-VV-METWHDFCPDGPWDQNPNPERPVYYGMRPQ 399  \n",
      "\n",
      "  400 WQGEMENRTPVSYMNAIKVMCNTSRLLLPLLSTIADNCVTSKQITPFIKIERVNHKHLDDKGRHAFIYFKNQLGMQDQPPEPVIQNR----EHIFVPVDP 499  \n",
      "       QGEME RTPVSYMNA   M       LPLLSTIADNCVTS                LD K RHA        G  DQPPE  IQNR     HIFVP D \n",
      "  400 IQGEME-RTPVSYMNANN-MLK--KVSLPLLSTIADNCVTSYE-D-WDQAQ-I----LD-KSRHADMSIYCS-G--DQPPEFRIQNRGYVMMHIFVPLDS 499  \n",
      "\n",
      "  500 -DKH-DMHDAKACERDMEHHNFSLCNTLSTHIYTMSCCPRHPVFQLMRE-H-PVNH---PAWYNAHLMKGMCCRLTRCQQDNKHLVWKYGWYPPNQF-N- 599  \n",
      "       DKH     AK    D        CN LSTHIYTMSC PRH  FQLMRE   PVNH    AWYN HLM   CCRLTRCQQDNKHLVWKYGWYPPNQF N \n",
      "  500 CDKHTEIRIAKK-DHDAKAQE-T-CNDLSTHIYTMSC-PRH--FQLMRETAVPVNHRERTAWYNFHLM---CCRLTRCQQDNKHLVWKYGWYPPNQFMNT 599  \n",
      "\n",
      "  600 ----TPWG------I-H-SISH-L---MWEDLCQVT--TDQCECHQPCQMG-KVFDEWVQDQFAHGWDCLHHVVPASYHHTYHNHMYYVYEYELQHSLDV 699  \n",
      "          TPWG        H  ISH     MWEDLCQVT    Q   HQ  QM  KVF E         WDCLHHVVPASYHHTYH  MY VYE EL HSLDV\n",
      "  600 CAYVTPWGRQRHTQMQHWDISHPFDHQMWEDLCQVTDHIQQFDMHQIWQMRLKVF-E-LNQMGGDMWDCLHHVVPASYHHTYH--MYCVYEMELFHSLDV 699  \n",
      "\n",
      "  700 CYLGYTEIKA-D-----D-F------FR-QKYYYISMSGYG----H--HVGPDDAAHARRVENWYEEMMDKIMNS------T-GLDEHRKN--S----CC 799  \n",
      "      CYLGYTEI A D     D            KYYYISMS YG    H  HVGPDDAAHARRVENWY  MMDKIMNS        GLDEHRKN  S    CC\n",
      "  700 CYLGYTEIQADDSCTQWDHWCLLAMCYSGGKYYYISMSKYGEHKAHECHVGPDDAAHARRVENWYNNMMDKIMNSQLLAQEAHGLDEHRKNSFSQTNQCC 799  \n",
      "\n",
      "  800 PK--IRTDKEDAIRPYPHYYKHLNSLSMHHLRCRPNVYNKNLDECNETYIGMPDKIMLRFWINGTYA----CVKR-Y--NKMGSRKI-SKFRMYNPVFNY 899  \n",
      "      PK  IRTD EDAI P PHYYKHLNSLSMH      N Y K  D    T IGMPDK MLRFWINGTYA    C  R    NKMGSRKI       NPVFNY\n",
      "  800 PKHSIRTDLEDAIAPSPHYYKHLNSLSMHY-----NKY-K-VDR---TSIGMPDKDMLRFWINGTYAMVKRCWRRAHQMNKMGSRKIYTRLNQ-NPVFNY 899  \n",
      "\n",
      "  900 NCCH---K--A-CSG------H-WIHWNWFYRPGCGWDK---I-EE--DREGLN-FKCYDIQEFDHDRKIPWELWLTANREDCAYEFRYLMQKMCFQ-PN 999  \n",
      "       CCH      A CSG        WIHWNWF  P   W     I        G      YD QEFDHDRKIPWELWLTANREDCA EFRY MQK   Q P \n",
      "  900 GCCHSVFEAFARCSGMRWCCLRWWIHWNWF-EPKQIWENHTAIMPTLWNNAGVKAHSHYDMQEFDHDRKIPWELWLTANREDCAREFRYPMQKRP-QIPP 999  \n",
      "\n",
      " 1000 VGMCFKQFS----SINYIGWEP-TQTVNCA---AGEPMVKGNVWPECHVCCEYEGVLSYWAVPINMTRALKTKCLHDTATYYVMRSPTEQWRQDCSFWGY 1099 \n",
      "         CFKQFS     INYIGWEP       A   AGEPMVKGNVW    V     G  SYWAVPINMTRALKTKCLHD ATYYVMRSPTEQ  Q       \n",
      " 1000 CMICFKQFSDTQPAINYIGWEPVNEVMYWAQTVAGEPMVKGNVW----V-----G--SYWAVPINMTRALKTKCLHDWATYYVMRSPTEQGYQKV-V-E- 1099 \n",
      "\n",
      " 1100 QYVHQVHHADCKQHAIPYKKHSGNLPTQMSYPTYRAVWVKTKECSTFGTRNMCILGANHMYTVQYEPWRWKPAYDAESVTCWWSIG--G-----GVENR- 1199 \n",
      "      Q   QVHHADCKQH I YK HS  LPTQM       V  KTKECSTFGTR    L     YTVQYEPWRWKPAYDA SVT WWSIG         VENR \n",
      " 1100 QF--QVHHADCKQHIIDYKFHS--LPTQM-----K-V--KTKECSTFGTR----L-----YTVQYEPWRWKPAYDAQSVTGWWSIGKMDMEVQFPVENRN 1199 \n",
      "\n",
      " 1200 ILDSGHPIFDWDECCVIINHHACCYFQWPYQFVTNQYINTCTFMLEFMTASAPSKWNHL----G--FYKMKIRHESHLQ----G--GNNYATTPWQ--R- 1299 \n",
      "         SGHPIFDWDE C     HACCYFQWPYQF TNQYINTCTFMLEFMTASAP KWNHL       FYKMKIRHESHLQ       GN YATTPWQ    \n",
      " 1200 KVHSGHPIFDWDESCKMFAMHACCYFQWPYQFGTNQYINTCTFMLEFMTASAPWKWNHLRRRTDIKFYKMKIRHESHLQILIEDCCGNFYATTPWQICNL 1299 \n",
      "\n",
      " 1300 LRLDT-CFTP---RTCAYMIRYITSFIVFTQVTHYGPHEFYKCLGCSIRTVDCWFRQACPHLGNYGMHQIQRQMMYCVSYHFPIMTHFWCIMPYDYNRLR 1399 \n",
      "      LRLD   F        AY IRYITSFIVFTQVTHYGP      LG SIR VDCWFRQ      NYGMHQIQRQMMYCVSYHFPIMTHFWC  PY   RL \n",
      " 1300 LRLDEHFFVGILLHDNAYFIRYITSFIVFTQVTHYGP------LGRSIRSVDCWFRQ------NYGMHQIQRQMMYCVSYHFPIMTHFWC--PYQAFRLE 1399 \n",
      "\n",
      " 1400 CRTRATQAHWPVNGWNTNEAEWSLWRINFIFADAAQETAFAF-W-----NFIYCWCIAHGTFQVNLLQTISAANTLEHCCAWGVGCDGETMRMDRRLIVF 1499 \n",
      "       R   TQA WPV G NTNEAEWSL RINF  ADA QETAFAF       NFIYCW IA         QTI A NTL     W    D ETMRM RRLIV \n",
      " 1400 TRGD-TQAKWPVYGANTNEAEWSL-RINFTLADADQETAFAFSFAVVQTNFIYCWEIAN-LYHP-M-QTIHARNTLTK---W----DLETMRMVRRLIVN 1499 \n",
      "\n",
      " 1500 PNSDEYGGMSGNKAHIETTKDNFRWCPPHTEEIRSYDEMVSNSFPCAITAWRLFFYVPGNNTHHAQAKYIFTQVVLHDGNGFQWGDKMEELGDMCRVMKG 1599 \n",
      "      PN D YGGMSGNKA I TTKDNFRWCPPHTEEIRSYD  VSN     ITAWR    V         AKYIFTQVV HDGNGFQWGDKM  L         \n",
      " 1500 PNIDNYGGMSGNKAKIHTTKDNFRWCPPHTEEIRSYDNRVSN-----ITAWR---QVH-QQFLYV-AKYIFTQVVSHDGNGFQWGDKMP-L--Y--T-E- 1599 \n",
      "\n",
      " 1600 ILPWHQFKPCAEQHFSPKDESPQSHHWQPIACNWSKQDWGMLQWM-VRQFHWYN-Q----SHIGWCLIVDMWMRKQLTVSCRNEFDWLTGDMRVDYYEHG 1699 \n",
      "       L WHQFKPCAEQHFSPKDESPQSHHW       SKQDWGMLQW  VRQFHWYN      SH GWCL   MWMRKQLTV CRNE DWLTGD    Y    \n",
      " 1600 -L-WHQFKPCAEQHFSPKDESPQSHHWVNTR-DASKQDWGMLQWAHVRQFHWYNCKDHCFSHQGWCL---MWMRKQLTVHCRNEADWLTGDL-T-Y-SNA 1699 \n",
      "\n",
      " 1700 WMFMMLWRTWAMHYGGMWPVAACIRKVKIDRQACCHNEYSVGIAHWWGTKECMDAVKAANYQRNFGQSIHYILYNDKEAQ-GLVDTFEHCNQYTV-KKKI 1799 \n",
      "            W    MHYGGMWPV   I     DRQA CH     G     GTK  MDAV AAN QRNFGQSI YIL      Q     TFEHCNQYTV KKK \n",
      " 1700 -----IWM---MHYGGMWPV---I-----DRQATCH-----G-----GTKVSMDAVAAANKQRNFGQSIPYILQGLQTFQVTVLMTFEHCNQYTVKKKKL 1799 \n",
      "\n",
      " 1800 NCQVSQFMCGRI--L-QAHTLQSKD-SALNMVHDPDMKYPIVLIFSKHICNFISYPTMKY------EFNPITCSWMTW-RR--AKK---NCLHKLADRCL 1899 \n",
      "      N       CG I               A NMVHDPDMKYPIVL FSKHICNFISYPTM Y      E  PITCS                CLHKLADRCL\n",
      " 1800 NNKICYSNCGMIGFFWVSQFMCGRILCAHNMVHDPDMKYPIVLLFSKHICNFISYPTMCYMFRMGCEVTPITCSRLPHNKKGVSTPVVISCLHKLADRCL 1899 \n",
      "\n",
      " 1900 PRTTLRVDIMWYSTQSRGRCSHFEHNHWKKIQPEQFQCSWWDNSVDKQWPGD-E--MI-CANFTK-LQSRSLWCAQLFSTCHNTYLFVPFQPFNIINWLI 1999 \n",
      "      PRTTLRVD  W STQS GRCSH EH H            W   SVDKQWPGD E         T   Q    WCAQLFSTCHNTYLFVP Q FNIINWLI\n",
      " 1900 PRTTLRVDKIWKSTQSYGRCSHTEHDHHHRM----I-LGW--KSVDKQWPGDAEAGKLQLMRSTSDIQTMG-WCAQLFSTCHNTYLFVPYQWFNIINWLI 1999 \n",
      "\n",
      " 2000 AIGSGHDPKITYDNRNCPCPTDVQTLMGWASYGDQWFKGCWY-K-SD----C----WNYNCTI----C---EA-FAWTRKTYLCFTNYAGHWKHEIPENQ 2099 \n",
      "      AIGS HDPKITY NRNCPCPT VQTLM    Y   WFKGCWY   SD    C    W   CTI    C   EA FAWTRKTYLCFT    H   EIPENQ\n",
      " 2000 AIGSMHDPKITYWNRNCPCPTNVQTLMASGDY-TEWFKGCWYPQVSDIENKCFMSGWWFVCTICVPHCFGNEAEFAWTRKTYLCFT----H---EIPENQ 2099 \n",
      "\n",
      " 2100 RACDEIIKSPQTYGDKTRPKIDIWMKFENFCPDDGDWMHKRMLSKNVAV-RTPSGQAN-WTDSNAQLT--D---TEVNHTGKAIMYTPYHGLVHCGGQEY 2199 \n",
      "      RACDEI     TYGD   P     MKFENF  D   WM       N AV   PSGQAN     N   T        VN     IM TPYHG   C G   \n",
      " 2100 RACDEI-----TYGD---P-----MKFENF-KD---WM-P---DPNPAVNQMPSGQANHFNELNKNHTGWNKFHVQVNADAPPIM-TPYHGGGQCYGTPM 2199 \n",
      "\n",
      " 2200 GIKGQDMMTSPGQAYKPPIDVFIDTNETGTRQTINKGC-N-NR-KGRDDHKNPDIMLGMRMFD-DANSKPWFTMKATNHRCHAVISQTHRHGYS-KAPDR 2299 \n",
      "        KGQD    P              NETGTRQTINK C        RDD  N DI LG RM       K        NHRCHAVISQTHRH YS     R\n",
      " 2200 RVKGQDK-P-PIDVLRHMLICDSSSNETGTRQTINK-CPRITKIRSRDD--NIDI-LG-RMYSPKMGIKDKGLLETRNHRCHAVISQTHRHQYSMRKYNR 2299 \n",
      "\n",
      " 2300 KL-WKLQQG-EQM--TCVVFPY-NIDGEPFQQYCEFYWM---HMGFCIKGYNYRQTRYGPYLWQHNSITHCVPRCSYFDRSH-A-D----N--A-EQGLH 2399 \n",
      "             QG   M  TCVVFPY       F QYCEFYWM    MGFCIKGYNYRQ  YGPYLWQHNSI      CSYFDRSH   D    N    EQGLH\n",
      " 2300 LFHYQVEQGWHEMPATCVVFPYPKLS-R-FPQYCEFYWMDDFEMGFCIKGYNYRQKLYGPYLWQHNSIKFVNLACSYFDRSHIVFDWNEVNKHGLEQGLH 2399 \n",
      "\n",
      " 2400 DCMIFSIAWTAQITSS------SFDEGHYSQC-HLT---NLKNKISTALWHPNIAPPKVNVNIFWPEMRQLGYMIVRIKNTDAEIWKKTEPVQGRCISVT 2499 \n",
      "      DCMIFSIAWTAQITS       SFDEGHY QC  LT       KISTA  HPNIAPPKVNVNI WP  R LGYMIVRIKN    IW       G     T\n",
      " 2400 DCMIFSIAWTAQITSNLIVPKGSFDEGHYFQCMRLTVCIHMTTKISTA--HPNIAPPKVNVNIAWP--RHLGYMIVRIKN----IWWGFCS-NGKETEMT 2499 \n",
      "\n",
      " 2500 TEINPMMPE-FEVPEAKTDGEWGWNQTEGGTSDFSWSGRPCVSN-TFVEIMRKHNAHSW---CPNERPLDFKPEGQLFANNWSNHFWMIL-VVPWIQLPM 2599 \n",
      "          PM    FEVP AKTDGEWGWNQTEG     S      VSN T     R      W   C     LDFKPEGQLFA    NHFWMI  VVPWIQLPM\n",
      " 2500 -D--PMPKQWFEVPHAKTDGEWGWNQTEG-KCN-SMF---LVSNTTSCQVSR-NTWRPWIVLCGEIAHLDFKPEGQLFA---CNHFWMIVCVVPWIQLPM 2599 \n",
      "\n",
      " 2600 DGTCECYWYERRMGGSMYSSFQWVYEFFMDTEGTYF---TRFENLIYWKYDWLISPSAFTSF--NMTDKMVHYPPLHVRNGYCGKNRGEQWYYEKK---A 2699 \n",
      "      DGT ECYWYER MGG       WVYEFFM  EGTY    TRFENLIYWKYDWLISPSAFT    NMTDKMVH       NG   KNRGEQWYYEKK   A\n",
      " 2600 DGTWECYWYERTMGG-------WVYEFFMIFEGTYWDIRTRFENLIYWKYDWLISPSAFTPIPKNMTDKMVH---C---NG---KNRGEQWYYEKKPSMA 2699 \n",
      "\n",
      " 2700 NHYEKVYCCHNKFVPSWQRSKWSMHWRWWI-GIWE-WESTYNVEPPHTMGQF-NVGRAQSMTGPRGWEPDMRRIQLEHMVFYLPCKNEFPYSGGLKSFAM 2799 \n",
      "      NHYEKVYCCH   VPSW    W   W W      E  E    VE P TMGQF  VG AQSMTGPRGWEPDMRRIQL  M           Y    K    \n",
      " 2700 NHYEKVYCCH-E-VPSW--NYWESKWIWETESTYEQYEIC-QVEFPQTMGQFWDVGFAQSMTGPRGWEPDMRRIQL--M--QV---HQ--YTS--K-YTD 2799 \n",
      "\n",
      " 2800 MRCLCEGSISNACFIDRKNHS----VEWMTNDADQIWEPELWPRYWLMP--PDKYQRSRKDFFERRPLCGYCIMTMALWWKFCQNNCVIEGHEPRQLREH 2899 \n",
      "            GS SNACFIDRKN S    VEWMTNDADQ      W  YW MP  PDK    R      R   GYCIMT         N CVIEGHEPRQLREH\n",
      " 2800 DE-F--GSCSNACFIDRKNPSAGCHVEWMTNDADQTG----WEQYWTMPFFPDK-DIER-GC-NQRDF-GYCIMT---------NPCVIEGHEPRQLREH 2899 \n",
      "\n",
      " 2900 HKMQCHMYPLAQEELWDGHFKTDMWAKWKEIASWLVYDLISGCTMHQHWCDFGRPPIPSDWFPDSQC---RIPTDNVCDNGI--R---IWRAYLEDMNMM 2999 \n",
      "      H MQCHMYPLAQ EL DGHFKTDMWAKW EI          G    Q WCDF    IP DW     C   RIPTDNVCDN        IWRAYLE     \n",
      " 2900 HAMQCHMYPLAQFELADGHFKTDMWAKWNEIET-M-HQ---G----Q-WCDF----IPQDWWLEYPCRSIRIPTDNVCDNNMPKKIIIIWRAYLE----- 2999 \n",
      "\n",
      " 3000 KPVLLQMPHTDKPHHWTHMCHKADMNWHAEGYVDFCFRTTLNVGALLTF------KLI-I-WGNFRHAGNGDPINRWHKEVADMPKIVITVRSAIWKDGA 3099 \n",
      "         LLQMPHTDKPHHWTH CHKADMNWHA G  D    T L VGALL F      K      GNFRH GNGDPINR      DMP I  TVRSAIWKDGA\n",
      " 3000 ---LLQMPHTDKPHHWTHPCHKADMNWHA-GD-D---GTVLRVGALLAFKHDKYYKFASLNFGNFRHNGNGDPINR--P---DMP-I--TVRSAIWKDGA 3099 \n",
      "\n",
      " 3100 IYSMTRARTYI-------MGDTKCHAIHIFWFPTICQMGYKCIWNFSQAIGNQWHQDFGQL--S-TYRHNASHPIKNATT-RFHPHNCDRRDHG---IMV 3199 \n",
      "      IY M RARTY        MGDTKCHA HIFWFP   Q     IWNFSQAIGNQWH            RHNASHPI             DRR HG    MV\n",
      " 3100 IYWMVRARTYMKWYCYCQMGDTKCHA-HIFWFPRKFQDCFHFIWNFSQAIGNQWHNHPKEAPDDFAHRHNASHPIAERNSFQATTRESDRRLHGQTHVMV 3199 \n",
      "\n",
      " 3200 YSKHSKV----Y---CWFCICDRLSATDQ-------CHTN------D-WHMEICFHRVRFLGWD-HLG-PEEVIDRYRVSDRW--IDNFGPMCNCLTISG 3299 \n",
      "      YSKHSKV        CWFCICDRLSAT         CHTN        W MEIC  R R L  D     P  VIDRY  S  W   DNFGPMCN L    \n",
      " 3200 YSKHSKVLLFWFEVHCWFCICDRLSATNKGLGWGAICHTNWHKKIIEYWSMEIC--RARHL-LDMRVRYPD-VIDRYP-S-WWKSCDNFGPMCNHLCVQH 3299 \n",
      "\n",
      " 3300 VNFNWFICFMPYDPMFWTNHHY----TGQVA-SDNKMHNARENLVLNFF-YDL-FSFWKCNLRWVMEHGGEW--GE---M--FDNYPCYI-----QWCRC 3399 \n",
      "          W      Y   FW         T Q     NKMHNARENLVLNF        F KCNLR VME GG W   E         Y         QWCRC\n",
      " 3300 ATC-W-LNHH-YTG-FWIDYGWCASETNQIVHCQNKMHNARENLVLNFSGWVCQMPFSKCNLRDVMEDGGGWHLQERKRVRGWHAYMHFMNDNHTQWCRC 3399 \n",
      "\n",
      " 3400 DPEVDWKGCLHGR--H---E--RA--VIWAG---YKKYTHAMV---GF----W---VYSPQRYYREVDIIKWVNNNWFKT-----M-FKMTIAVWDKMYG 3499 \n",
      "      DPEVDWK CLH            A  VIW G    KKYTHA V    F    W   VYSPQRYYREV IIKWVNNNWFKT       FKMTIAVWDKMYG\n",
      " 3400 DPEVDWKTCLHEQFDNIMFNCAHAYDVIWNGPIHWKKYTHAVVLHPNFHEPKWLEKVYSPQRYYREVNIIKWVNNNWFKTNWSDGVWFKMTIAVWDKMYG 3499 \n",
      "\n",
      " 3500 PLWYKRPFPEMEGEGY--YWTLEFATMYDCYPCYDTGITVLCWNNLHHRIGCARTERREGVQIVFWCLMDKPKFLDTCDGPWKIKFVSY-IWHVKY--YH 3599 \n",
      "      PLWY   FP ME E    YWTLEFATMYD YPCYDTGITVLCWNNLHHRIGCARTER    QIVFWCLMDKPKFLDTCD PW      Y IWH      H\n",
      " 3500 PLWYT--FPWMEEENWLKYWTLEFATMYDAYPCYDTGITVLCWNNLHHRIGCARTERIN--QIVFWCLMDKPKFLDTCDRPWW-STI-YTIWHSQHSSIH 3599 \n",
      "\n",
      " 3600 SEHSSIMWNIVHEK---M--WFFCIVKNYGTPTNCQMDG-WCSEDTHIQDMFWRQYAFHPPLQDPWFDGPPTHPKHISYKDNISEVMILLFYIPPAFNSV 3699 \n",
      "        H     NIVHEK      WFFCIV NYGTPTNCQMD  W   D H       Q          WFDGPPTHPKHIS K NISEVMILLF         \n",
      " 3600 GKHKQ-E-NIVHEKPVSICGWFFCIVMNYGTPTNCQMDQFWRQYDFHSYKPVPLQ-D-KKKAYN-WFDGPPTHPKHIS-KENISEVMILLFCEWKNMLYI 3699 \n",
      "\n",
      " 3700 P-GEAVDSP-QHFY-TQFTVDFTYM--DN----GHNLYEYHSCGSGMSCNIHTLDHNSCDMKNRYSCSDFGGGVRELEFDPTWTFVNQNADYQVRNCRHS 3799 \n",
      "      P  EAV SP    Y   FTVDF YM  DN    GHNLYEYHSCGSG   N     HNS      Y  SDFGG VRELEFD     V         NCRHS\n",
      " 3700 PVREAVRSPTMKTYDIKFTVDFYYMDTDNKIYYGHNLYEYHSCGSG-T-N--AI-HNSF-YP--YLISDFGG-VRELEFD--YQ-VSK-L-FRAANCRHS 3799 \n",
      "\n",
      " 3800 KD-L-PRTNDAPTANNF-RLMRLRKTLEYGVLV-L--PCIQRRFTQHGEIFAML-LQVLLHLFDFFEDQMPCNWVHHYTGWPHLTISLLGDFKMNWIKNI 3899 \n",
      "      KD L PRTN APTANNF        T     LV    PCIQRRFTQHG     L         D FEDQMPCNWV   T      ISLLGD KMNWIKN \n",
      " 3800 KDELKPRTNQAPTANNFLKTLEYGQT-DSKPLVDSENPCIQRRFTQHGMLYQVLVVRAGREPEDGFEDQMPCNWV---T------ISLLGDQKMNWIKNT 3899 \n",
      "\n",
      " 3900 AFFIDTWSLAYPQSKPCPGKNNPDDVLSGPEFKYHELNVINQHRIMATVLYSDTTHEVVVCLMWDEWTAEWSPFDRFLIKPAHWLE--YFH--PSHNRV- 3999 \n",
      "      AFFID W L     KPC        VLSGPEFK      INQHRIMATVLY            W E TAEWSPFDRFLIKPAH LE  Y     S NRV \n",
      " 3900 AFFIDWW-L-----KPC--------VLSGPEFK------INQHRIMATVLY------------WHE-TAEWSPFDRFLIKPAHNLETSYIQSDDSYNRVY 3999 \n",
      "\n",
      " 4000 --VVFWQCLIEQIQNMWCNPLWKDSLDMDK-RLMLSSYDFQVLCCKETVRMQFFCLADRRCKHSNRHKEK-----W--G----FG--LKMYWEKQQNTVL 4099 \n",
      "          FWQCLIE IQ        KDSLDMDK            L       MQFFCLADRR KHSNRHKEK        G    FG  LKMYWEKQQN VL\n",
      " 4000 KNFCFWQCLIEEIQ-L----V-KDSLDMDKYDCKMGDTGESMLP-SVSWNMQFFCLADRRSKHSNRHKEKSLVRHFMCGFKSCFGHALKMYWEKQQNMVL 4099 \n",
      "\n",
      " 4100 TGMICANPAPQFKENDIPPTLWTYW-I-WWPPEHYWQFCSVANTETFMLVTAWRFYADFSWTFGYMCRAAKYYHCFSPAWW-C----K-VTWYVHVKCTM 4199 \n",
      "      TGMI ANP PQFKEND        W I WWPPEHYWQFCSVA  E   LVT WR                   HCFSPAWW C    K VTWYVHVKC  \n",
      " 4100 TGMILANPWPQFKENDHKIFMYSAWIICWWPPEHYWQFCSVAS-E---LVTWWRMDVMMP-NIADF-KIT-FGHCFSPAWWCCKALRKNVTWYVHVKC-- 4199 \n",
      "\n",
      " 4200 HTWQWN-WAHDQVQTMAIIGARGVGDARFKLFH-IDAIVIHNTSEPDRMTMYCISFTMEVEYSPWVDLWGTGW--GG-P--WNSKKIHACEAMDMCKW-- 4299 \n",
      "      H W W          MAIIGARGVG ARF  FH  D  VIHNTSEPDRMT  CISF  EVEYSPWV LWGTGW   G    WNSKKIHA E    CKW  \n",
      " 4200 H-WTWQLYLVIPADQMAIIGARGVGRARFNVFHQYD-VVIHNTSEPDRMT--CISFRGEVEYSPWVCLWGTGWPYAGDKNNWNSKKIHAKE--H-CKWVG 4299 \n",
      "\n",
      " 4300 H----KDMGCTHSVDGENICERCQSDECWRATGSAPGIIWSSVKEINNKAIENHDWGQSRVDINNP-MMHEWFLDFRRDQVKSHFERAKWVIMSYWLHGN 4399 \n",
      "      H    KDMG THSVDGENICERC S ECWRATG A G IWSSVK I    I              P    EWFLDFRRDQVKSHFE    VIMSYWLHG \n",
      " 4300 HAFESKDMGNTHSVDGENICERCWSPECWRATGKANGRIWSSVKLIDDW-IQSRI-NNPVMQMILPGWVMEWFLDFRRDQVKSHFE----VIMSYWLHGW 4399 \n",
      "\n",
      " 4400 VN-CQACPCK----SQGQMMNIWGCGTNHAPMWDHIGMWYAIQKRICHGFIQHKCSGATRFYAN-TGRPMFMCQSCRKQNVDPAFMMDSYPIPQSTVWDD 4499 \n",
      "      VN  QA P K     QG MMNIWGCGTNHAPMWDHIGMWYAI KRICHGFIQHKCSGATRFY   TGRPMFMCQS        AFMMDSYPIPQS  WDD\n",
      " 4400 VNGHQAHPNKRYRDGQGHMMNIWGCGTNHAPMWDHIGMWYAIEKRICHGFIQHKCSGATRFYRQYTGRPMFMCQSY--WS-E-AFMMDSYPIPQS--WDD 4499 \n",
      "\n",
      " 4500 TQWSNFCHP-C------THCWVQMRCL---WLWRYDN-NFPEIVM-RMRWRCMKKSMFVFTPGCRYRFWLDIDFEFIDASCRDWT-FTLNNVNTVFNDAD 4599 \n",
      "       Q SNFCHP C       HCWVQMRC    W WRYDN  FPEIVM    W       F F       FWL         S   WT F     N     AD\n",
      " 4500 NQYSNFCHPCCRYDNHVNHCWVQMRCVKTQWEWRYDNCLFPEIVMKKLFW--LDID-FEFRD---WTFWLNMAL-W---SWYVWTVFNYRRLN--WHTAD 4599 \n",
      "\n",
      " 4600 NQSKRR-----M-Q-GVHCSSLVWDWPESMGLHENTCEWVCA-CNCLD-RNRKTI-YGFRGSYRLDSSNGRFGHCAAFLTCTWEMDYFLMQILEISQCCT 4699 \n",
      "      NQS RR          VHCS LVW  PESMGLHENT EW C  C C          Y  RGSYRLDS   RFGH AAFLTCTWEMDYFLMQILEISQCCT\n",
      " 4600 NQSHRRAYNFDIHNCNVHCSLLVWVPPESMGLHENTEEW-CSFCMCATFQMAALVMYYQRGSYRLDS---RFGHTAAFLTCTWEMDYFLMQILEISQCCT 4699 \n",
      "\n",
      " 4700 YALWHSFRWWFSSAGQKAEIRHG-D---DLGNCTEHVDHDGHSFYLMIAACQDLA--RAPTN-HTDSSTGFHMEKMNMSQMV-K--IGEPLPYLIYYAET 4799 \n",
      "          H  RWWFSSAGQKAEIRHG     DLGNCTEHVDHDGHSFYLMIA     A        HTDSSTG    KMNMS MV K  IGEPLPYL YYAET\n",
      " 4700 ICS-H--RWWFSSAGQKAEIRHGWQVYPDLGNCTEHVDHDGHSFYLMIAQHLMMAWSQCQYGCHTDSSTG----KMNMSMMVDKLTIGEPLPYLSYYAET 4799 \n",
      "\n",
      " 4800 WCWIQVTEGMVTNPARMLYWEAGKMLKRQTYFKGFLWGFKYCMRARSGDGIPGDKLYPIE-Y-QAQRHWS---I-----FPNMFVERHKEMDQI-HYADH 4899 \n",
      "      WCWIQVTEGMVT PARMLYW AGK         GFLWGF YCMRA  G  IPGDKL   E   QAQRHWS         FPNMFVER KEMDQI  YAD \n",
      " 4800 WCWIQVTEGMVTLPARMLYWHAGK---------GFLWGFEYCMRA--G--IPGDKLIEREFFSQAQRHWSPDWAGQHPDFPNMFVERSKEMDQICIYAD- 4899 \n",
      "\n",
      " 4900 EAHNFGCMKPEVIVIHAFYTDYGYADWHIVCCAKSQQWVWRDFTAFNTVDG                                                  4950 \n",
      "           GCM         FYTDYGYADWHIVCCA SQ WVWRDFTAFNTV G                                                 \n",
      " 4900 -----GCMN--T---R-FYTDYGYADWHIVCCAFSQVWVWRDFTAFNTVGG                                                  4950 \n",
      "\n"
     ]
    }
   ],
   "source": [
    "def trial_4():\n",
    "    [X, Y, *_] = open(\"rosalind_ba5e.txt\").read().split(\"\\n\")\n",
    "    similarity = global_sequence_similarity()\n",
    "    mat,maxval,index = similarity(X, Y, s=score_function(\"BLOSUM62\", C=5))\n",
    "    print(maxval)\n",
    "    print_formatted([global_traceback(mat[0:index[0]+1, 0:index[1]+1], X, Y)])\n",
    "    \n",
    "trial_4()"
   ]
  },
  {
   "cell_type": "code",
   "execution_count": 11,
   "metadata": {},
   "outputs": [],
   "source": [
    "def printmat(mat, X, Y):\n",
    "    ylen, xlen = mat.shape\n",
    "    print(\"         \"+\"     \".join(Y))\n",
    "    for x in range(xlen):\n",
    "        print(\"   | \"+\" | \".join(f\"{mat[y, x][1]:3}\" for y in range(ylen))+\" |\")\n",
    "        if x+1 < xlen: print(f\"{X[x]:1}  -\",\"-\"*(ylen*6),sep=\"\")"
   ]
  },
  {
   "cell_type": "code",
   "execution_count": 12,
   "metadata": {},
   "outputs": [
    {
     "name": "stdout",
     "output_type": "stream",
     "text": [
      "         G     A     T     T     G     A\n",
      "   |   0 |   0 |   0 |   0 |   0 |   0 |   0 |\n",
      "A  -------------------------------------------\n",
      "   |   0 |   0 |   4 |   2 |   0 |   0 |   4 |\n",
      "C  -------------------------------------------\n",
      "   |   0 |   0 |   2 |   3 |   1 |   0 |   2 |\n",
      "G  -------------------------------------------\n",
      "   |   0 |   4 |   2 |   1 |   2 |   5 |   3 |\n",
      "C  -------------------------------------------\n",
      "   |   0 |   2 |   3 |   1 |   0 |   3 |   4 |\n",
      "Value is 5 at (5, 3)\n",
      "         G     A     T     T     G     A\n",
      "   |   0 |   0 |   0 |   0 |   0 |   0 |\n",
      "A  -------------------------------------\n",
      "   |   0 |   0 |   4 |   2 |   0 |   0 |\n",
      "C  -------------------------------------\n",
      "   |   0 |   0 |   2 |   3 |   1 |   0 |\n",
      "G  -------------------------------------\n",
      "   |   0 |   4 |   2 |   1 |   2 |   5 |\n",
      "\n",
      "\n",
      "    0 A-CG                                                                                                 3    \n",
      "      A  G                                                                                                \n",
      "    0 ATTG                                                                                                 3    \n",
      "\n"
     ]
    }
   ],
   "source": [
    "def trial_5():\n",
    "    X, Y = \"ACGC\", \"GATTGA\"\n",
    "    similarity = local_sequence_similarity()\n",
    "    mat,maxval,index = similarity(X, Y, s=score_function(\"BASIC\",A=4, B=1, C=2))\n",
    "    printmat(mat, X, Y)\n",
    "    print(\"Value is\",maxval,\"at\",index)\n",
    "    printmat(mat[0:index[0]+1,0:index[1]+1], X, Y)\n",
    "    print()\n",
    "    print_formatted([local_traceback(mat[0:index[0]+1, 0:index[1]+1], X, Y)])\n",
    "\n",
    "trial_5()"
   ]
  },
  {
   "cell_type": "code",
   "execution_count": 13,
   "metadata": {
    "scrolled": false
   },
   "outputs": [
    {
     "name": "stdout",
     "output_type": "stream",
     "text": [
      "         P     E     N     A     L     T     Y\n",
      "   |   0 |   0 |   0 |   0 |   0 |   0 |   0 |   0 |\n",
      "M  -------------------------------------------------\n",
      "   |   0 |   0 |   0 |   0 |   0 |   4 |   0 |   0 |\n",
      "E  -------------------------------------------------\n",
      "   |   0 |   0 |   4 |   1 |   0 |   0 |   4 |   0 |\n",
      "A  -------------------------------------------------\n",
      "   |   0 |   1 |   0 |   4 |   3 |   0 |   1 |   1 |\n",
      "N  -------------------------------------------------\n",
      "   |   0 |   0 |   2 |   2 |   4 |   0 |   0 |   0 |\n",
      "L  -------------------------------------------------\n",
      "   |   0 |   0 |   0 |   0 |   0 |  10 |   5 |   0 |\n",
      "Y  -------------------------------------------------\n",
      "   |   0 |   0 |   0 |   0 |   0 |   5 |   7 |  15 |\n",
      "Value is 15 at (7, 6)\n",
      "         P     E     N     A     L     T     Y\n",
      "   |   0 |   0 |   0 |   0 |   0 |   0 |   0 |   0 |\n",
      "M  -------------------------------------------------\n",
      "   |   0 |   0 |   0 |   0 |   0 |   4 |   0 |   0 |\n",
      "E  -------------------------------------------------\n",
      "   |   0 |   0 |   4 |   1 |   0 |   0 |   4 |   0 |\n",
      "A  -------------------------------------------------\n",
      "   |   0 |   1 |   0 |   4 |   3 |   0 |   1 |   1 |\n",
      "N  -------------------------------------------------\n",
      "   |   0 |   0 |   2 |   2 |   4 |   0 |   0 |   0 |\n",
      "L  -------------------------------------------------\n",
      "   |   0 |   0 |   0 |   0 |   0 |  10 |   5 |   0 |\n",
      "Y  -------------------------------------------------\n",
      "   |   0 |   0 |   0 |   0 |   0 |   5 |   7 |  15 |\n",
      "\n",
      "\n",
      "    0 EANL-Y                                                                                               5    \n",
      "      E  L Y                                                                                              \n",
      "    0 ENALTY                                                                                               5    \n",
      "\n"
     ]
    }
   ],
   "source": [
    "def trial_6():\n",
    "    X, Y = \"MEANLY\", \"PENALTY\"\n",
    "    similarity = local_sequence_similarity()\n",
    "    mat,maxval,index = similarity(X, Y, s=score_function(\"PAM250\", C=5))\n",
    "    printmat(mat, X, Y)\n",
    "    print(\"Value is\",maxval,\"at\",index)\n",
    "    printmat(mat[0:index[0]+1,0:index[1]+1], X, Y)\n",
    "    print()\n",
    "    print_formatted([local_traceback(mat[0:index[0]+1, 0:index[1]+1], X, Y)])\n",
    "\n",
    "trial_6()"
   ]
  },
  {
   "cell_type": "code",
   "execution_count": 14,
   "metadata": {
    "scrolled": false
   },
   "outputs": [
    {
     "name": "stdout",
     "output_type": "stream",
     "text": [
      "Value is 1062 at (862, 881)\n",
      "\n",
      "    0 YQAGIIRQPPRGD-RGVSDRNYSQCGKQ-NQ-AQLDNNPTWTKYEIEWRVQI-LPPGAGVFEGDNGQNQCLCPNW--A-W-EQPCQW----GALHS-NEQ 99   \n",
      "      Y     R           D     C       A L    T       W      P G GV           C  W  A   E P  W      L   N Q\n",
      "    0 Y-P-MSRKTAKSQFIEWCDW-F--CFNHWTNWAPLSIVRTSVAFAV-W-GHCWYPCG-GVCKTNRCKDD-FCGRWRKALFAEGPRDWKCCKNDLQNWNPQ 99   \n",
      "\n",
      "  100 YPNRIHLWAPMSKLHIKIEKSSYN-RNAQ-FPNRCMYECE-FPSY-REQVDSCHYENVQIAF-TIFSGAEQKRKFCSCHFWSNFIDQAVFSTGLI-PWCY 199  \n",
      "      Y                             F       C     Y           N   AF  I      K              Q   ST    P   \n",
      "  100 YSQGTR--NTK-RMVATTNQTMIEWKQSHIFETW-LF-CHVIIEYNWSAF-W-MWMNRNEAFNSIIKSGYPKLLL-T-QY-P-L-SQG--STPIVKPL-I 199  \n",
      "\n",
      "  200 RRDDHSAFFMPNWNKQ--YKHPQLQFRVAGEGTQCRPFYTREMFTKVSAWRIAGRFAGPYERHHDAHLELWY-QHHKVRT-GQQLGIIWNNRDKTRNPCP 299  \n",
      "      RRD    F    W        P      A     C                   R  GP E       E WY      RT GQQLGIIWNNR KTRNPCP\n",
      "  200 RRD-QGKFW-A-WAQMWWFREPT-NIPTA-D-Y-CHSW--WQ--SR-ADLQ-NDRDMGP-EADASFYVEFWYWVRCAARTYGQQLGIIWNNRLKTRNPCP 299  \n",
      "\n",
      "  300 FSA--YYNK--LP-WWK-I-NQ-N-AFYNCLQNIAHSTHDETHEFNPVKCIDWLQGTMV--P-----TECKKGFVHEKCECYRNPGPPLHDMYHQMEDIF 399  \n",
      "       SA    NK     WWK        AFY CLQN AH THD T EFNPVKCIDWLQG MV        TECKK FVHEKCECYR             EDIF\n",
      "  300 YSADGIQNKENYVFWWKNMCTKSHIAFYYCLQNVAHYTHDVTAEFNPVKCIDWLQGHMVLSSWFKYNTECKKLFVHEKCECYRM----FCGV---VEDIF 399  \n",
      "\n",
      "  400 GVRFDCLTGWKHLS------D---YNPC-QERRNINDFYIFAYEIAPAVKNLVLSPQPLADATKKCAFNYTPLDQSPVVIA-CK--WYIHQPI-CMLL-- 499  \n",
      "      GVRF   TGWKHLS          YNP  QERRNINDFYIF YEIAPAVKNLVLS QPL D TKKCAFNYTP              W  H  I C     \n",
      "  400 GVRFH--TGWKHLSTAKPVPHVCVYNPSVQERRNINDFYIF-YEIAPAVKNLVLSAQPLHDYTKKCAFNYTPITITRIISTRNQIIW-AHVVIACQFYSP 499  \n",
      "\n",
      "  500 --IVLIC-AMDKYNAHMIVIRTTEGQQPMHACRMTEGPGMCMKEPLVTFTLPAQWQWPNHEFKYVYMYVLNYHLSQYTYTDEGHAGGQHYSFNVAVDVGM 599  \n",
      "          LI  AMDKY A M V R TEG QPMHACR T GPGM  KEPLVTFTL A WQWPNHEF YVYMY       Q         G       V      \n",
      "  500 HQMLLIELAMDKYCADMNVRRSTEGHQPMHACRSTFGPGMAAKEPLVTFTLVAFWQWPNHEFQYVYMYTED-KIIQIG-PHLSN-GCEMVEYCVDC-YAK 599  \n",
      "\n",
      "  600 AWGHNRCYCQPACYSQQETQTRTIDYEKWQYMKHQAFKWGLWFCEQ-ERHA--WFKGQNRCEMFTAKMTRMGADSNLDQYKLMLAQNYEEQWEQPIMECG 699  \n",
      "           R Y   A Y    T      Y         A   G   C         W      C  F                       YE       M   \n",
      "  600 -RPCYRAYSAEAQYWRMITEAEDYSYKTRNAIAATATVRGQ-YCHPFRWLGIVWM-AHHDC-FFANECGTICI-PQMAEMRPPETTPYEI--DIIFMMF- 699  \n",
      "\n",
      "  700 MSEIIEIDPPYRSELIFTFWPFCTYSPWQNLIKCRCNNVIEEMDQCVP-LTF-IGFGVKQAGGIQAWAFYKE--EWTSTYYLMCQCMKSDKAQYPYEIIL 799  \n",
      "        E                 P  T S W       C         C   L F   F   Q G    W    E  E       M    K   AQ       \n",
      "  700 WKE--HMSTTIL-DVVGMYRP-ATFSHWHDAHH-QCEPYLTPL-MCQSKLVFDAAFT--QVGVKGVW-YHTEKLELMAGFNHM-K-FKKEEAQ---QSCF 799  \n",
      "\n",
      "  800 FWMQ--P-MDTGE--QEPPQQNMWIFLPHSWFFDWCCNAPWSEICSSRHD--H---GQ-CQDAFYPCELFTVF                            872  \n",
      "       W Q  P  D                    W     C      I  SRH   H    Q C    Y  ELF  F                           \n",
      "  800 YWFQDCPDYDPPDAVRKTDEKHIRAHGEIWWLMRYYCMYHILHI-ASRHEWMHLRWDQACTNPGY--ELFE-F                            872  \n",
      "\n"
     ]
    }
   ],
   "source": [
    "def trial_7():\n",
    "    [X, Y, *_] = open(\"local_alignment.txt\").read().split(\"\\n\")\n",
    "    similarity = local_sequence_similarity()\n",
    "    mat,maxval,index = similarity(X, Y, s=score_function(\"PAM250\", C=5))\n",
    "    print(\"Value is\",maxval,\"at\",index)\n",
    "    print_formatted([local_traceback(mat[0:index[0]+1, 0:index[1]+1], X, Y)])\n",
    "\n",
    "trial_7()"
   ]
  },
  {
   "cell_type": "markdown",
   "metadata": {},
   "source": [
    "```\n",
    "1062\n",
    "YQAGIIRQPPRGD-RGVSDRNYSQCGKQ-NQ-AQLDNNPTWTKYEIEWRVQI-LPPGAGVFEGDNGQNQCLCPNW--A-W-EQPCQW----GALHS-NEQYPNRIHLWAPMSKLHIKIEKSSYN-RNAQ-FPNRCMYECE-FPSY-REQVDSCHYENVQIAF-TIFSGAEQKRKFCSCHFWSNFIDQAVFSTGLI-PWCYRRDDHSAFFMPNWNKQ--YKHPQLQFRVAGEGTQCRPFYTREMFTKVSAWRIAGRFAGPYERHHDAHLELWY-QHHKVRT-GQQLGIIWNNRDKTRNPCPFSAY-Y-NK--LP-WWK-I-NQ-N-AFYNCLQNIAHSTHDETHEFNPVKCIDWLQGTMV-P------TECKKGFVHEKCECYRNPGPPLHDMYHQMEDIFGVRFDCLTGWKHLS------D---YNPC-QERRNINDFYIFAYEIAPAVKNLVLSPQPLADATKKCAFNYTPLDQSPVVIACK---WYIHQPI-CMLL----IVLIC-AMDKYNAHMIVIRTTEGQQPMHACRMTEGPGMCMKEPLVTFTLPAQWQWPNHEFKYVYMYVLNYHLSQYTYTDEGHAGGQHYSFNVAVDVGMAWGHNRCYCQPACYSQQETQTRTIDYEKWQYMKHQAFKWGLWFCEQER-HA--WFKGQNRCEMFTAKMTRMGADSNLDQYKLMLAQNYEEQWEQPIMECGMSEIIEIDPPYRSELIFTFWPFCTYSPWQNLIKCRCNNVIEEMDQCVP-LTF-IGFGVKQAGGIQA-WAFYKE--EWTSTYYLMCQCMKSDKAQYPYEIILFWMQ--P-MDTGE--QEPPQQNMWIFLPHSWFFDWCCNAPWSEICSSRHD--H---GQ-CQDAFYPCELFTVF\n",
    "Y-P-MSRKTAKSQFIEWCDW-F--CFNHWTNWAPLSIVRTSVAFAV-W-GHCWYPCG-GVCKTNRCKDD-FCGRWRKALFAEGPRDWKCCKNDLQNWNPQYSQGTR--NTK-RMVATTNQTMIEWKQSHIFETW-LF-CHVIIEYNWSAF-W-MWMNRNEAFNSIIKSGYPKLLL-T-QY-P-L-SQG--STPIVKPL-IRRD-QGKFW-A-WAQMWWFREPT-NIPTA-D-Y-CHSW--WQ--SR-ADLQ-NDRDMGP-EADASFYVEFWYWVRCAARTYGQQLGIIWNNRLKTRNPCPYSADGIQNKENYVFWWKNMCTKSHIAFYYCLQNVAHYTHDVTAEFNPVKCIDWLQGHMVLSSWFKYNTECKKLFVHEKCECYRM----FCGV---VEDIFGVRFH--TGWKHLSTAKPVPHVCVYNPSVQERRNINDFYIF-YEIAPAVKNLVLSAQPLHDYTKKCAFNYTPITITRIISTRNQIIW-AHVVIACQFYSPHQMLLIELAMDKYCADMNVRRSTEGHQPMHACRSTFGPGMAAKEPLVTFTLVAFWQWPNHEFQYVYMYTED-KIIQIG-PHLSN-GCEMVEYCVDC-YAK-RPCYRAYSAEAQYWRMITEAEDYSYKTRNAIAATATVRGQ-YCHPFRWLGIVWM-AHHDC-FFANECGTICI-PQMAEMRPPETTPYEI--DIIFMMF-WKE--HMSTTIL-DVVGMYRP-ATFSHWHDAHH-QCEPYLTPL-MCQSKLVFDAAFT--QVG-VKGVW-YHTEKLELMAGFNHM-K-FKKEEAQ---QSCFYWFQDCPDYDPPDAVRKTDEKHIRAHGEIWWLMRYYCMYHILHI-ASRHEWMHLRWDQACTNPGY--ELFE-F\n",
    "```"
   ]
  },
  {
   "cell_type": "code",
   "execution_count": 44,
   "metadata": {},
   "outputs": [
    {
     "name": "stdout",
     "output_type": "stream",
     "text": [
      "E value associated with S>=35 = 1980766.5639468906\n",
      "probability of no alignments with score >= 35 is 0.0\n",
      "probability of finding at least one alignment (p-value) is 1.0\n"
     ]
    }
   ],
   "source": [
    "# Expected Number of High-Scoring Alignments\n",
    "from math import exp, log\n",
    "\n",
    "K = 0.050\n",
    "lamda = 0.25\n",
    "S = 35\n",
    "m = 250\n",
    "n = 1000000000\n",
    "E = K*m*n*exp(-lamda*S)\n",
    "print(f\"E value associated with S>={S} =\",E)\n",
    "\n",
    "# The Number of high-scoring alignments is poisson distributed with expected value E.\n",
    "# probability of finding 0 alignments with score >= S is e^-E\n",
    "\n",
    "p_no_alignments = exp(-E)\n",
    "print(f\"probability of no alignments with score >= {S} is\",p_no_alignments)\n",
    "print(\"probability of finding at least one alignment (p-value) is\",1-p_no_alignments)"
   ]
  },
  {
   "cell_type": "code",
   "execution_count": 45,
   "metadata": {},
   "outputs": [
    {
     "name": "stdout",
     "output_type": "stream",
     "text": [
      "Normalized score S' = 16.94550970266579\n"
     ]
    }
   ],
   "source": [
    "# Normalized Scores\n",
    "\n",
    "s_prime = (lamda*S - log(K)) / log(2)\n",
    "print(\"Normalized score S' =\",s_prime)"
   ]
  },
  {
   "cell_type": "code",
   "execution_count": 46,
   "metadata": {},
   "outputs": [
    {
     "name": "stdout",
     "output_type": "stream",
     "text": [
      "E-value 1980766.5639468913\n"
     ]
    }
   ],
   "source": [
    "N = n*m\n",
    "E = N/2**s_prime\n",
    "print(\"E-value\",E)"
   ]
  },
  {
   "cell_type": "markdown",
   "metadata": {},
   "source": [
    "# Question 3\n",
    "Assume the background frequencies for all four nucleotides are equal, and consider the DNA substitution matrix which give all matches a score +1 and all mismatches a score -1.\n",
    "\n",
    "What is the expected score for this matri?Is this a valid matrix for local alignment? Why?"
   ]
  },
  {
   "cell_type": "code",
   "execution_count": 67,
   "metadata": {},
   "outputs": [],
   "source": [
    "from genomics import *\n",
    "\n",
    "X=add_codon(10)\n",
    "Y=add_codon(1000)\n",
    "X, Y = \"MEANLY\", \"PENALTY\""
   ]
  },
  {
   "cell_type": "code",
   "execution_count": 69,
   "metadata": {},
   "outputs": [
    {
     "name": "stdout",
     "output_type": "stream",
     "text": [
      "Value is 15 at (7, 6)\n",
      "MEANLY\n",
      "PENALTY\n",
      "\n",
      "    0 EANL-Y                                                                                               5    \n",
      "      E  L Y                                                                                              \n",
      "    0 ENALTY                                                                                               5    \n",
      "\n"
     ]
    }
   ],
   "source": [
    "similarity = local_sequence_similarity()\n",
    "mat,maxval,index = similarity(X, Y, s=score_function(\"PAM250\", C=5))\n",
    "# printmat(mat, X, Y)\n",
    "print(\"Value is\",maxval,\"at\",index)\n",
    "# printmat(mat[0:index[0]+1,0:index[1]+1], X, Y)\n",
    "print(X)\n",
    "print(Y)\n",
    "print_formatted([local_traceback(mat[0:index[0]+1, 0:index[1]+1], X, Y)])\n"
   ]
  },
  {
   "cell_type": "code",
   "execution_count": 56,
   "metadata": {},
   "outputs": [
    {
     "name": "stdout",
     "output_type": "stream",
     "text": [
      "TGTTGTGTCTTAGCATGATTGACGCAATGTGTACAAATACCAACGTGTCGAGCGGTTGTGACTCTCCGCCGTAACACTCAGAGTCACTGTATTCATTAATGCGGGCCACTTTAACAACCGATTCGATCCGTCCCTTTCCAGTTTCTCGGTCCCGTACGTTGGACCACACCTTGTACTTAAGGCCATACGTTATCAGGTACAGGAATGCGGTTAATGCTGCGGACAAAAAGACTCTATAAAGATAGGAAGAGATATCCCCCAGGCCCACACGGCAGCTGAGGTATTTTCTGTTGAACGTTCCAGTCGACATACATGCGCGCTCTGCGAAACGCAGACAATCTCCAACAGCCCTGTAGTAGCGAGAGACAAGCAACTCCCGACGGACACCATTGATAAAGCACGCATCAACACCCCGGCTCCAGAGAGGTGGATTGTTGGACCTAAATACAGTCTATGACCGTTCTTGGTGTGCGGCCACTTAATAACCTATGCGACTTATCGCGGCAACCTGCTTATTATCAGATTACGGCCCGCCCAGGACGTATGCGGACGTGCCGCGCGGACGTGCTATCCCCACATCACGATGCACACCTGGAACAATCTACCTGTTACAGAACGACAATACGTATGTCCACGGAACTTACCCGAGCGGATGATGTCAACCACGCGGATAATTAGAGTCGTGCAAGACTTGGGAATGGTCACTCGGAGTACCTGGTCTTCTCGTTTACTTGCGTCTAAAATTCCGTGGTGAAAGAACCACATGAGGTGAACCCGCGATTACTAGTGCTGCAGTACAAACGCTGTATATTGTACTTATGTCTCACCGAATTGAATGATAGTAAACACCGATGCAGACGGTATATCGTATAGTAGGCTGTTCTAACAGCGAATTCGTCGGACTATGAACACTTCGATGCGTGTTTCACACACAGCCCCGTGTGGCTCTCGAGTCTTGACAAACAGCGGGGCGTCATCGGAACCACCCCTGCGCAGGGCT\n"
     ]
    }
   ],
   "source": [
    "print(Y)"
   ]
  },
  {
   "cell_type": "code",
   "execution_count": 61,
   "metadata": {},
   "outputs": [
    {
     "name": "stdout",
     "output_type": "stream",
     "text": [
      "[[('h', 0) ('', 0) ('', 0) ... ('', 0) ('', 0) ('', 0)]\n",
      " [('', 0) ('d', 0) ('d', 0) ... ('d', 0) ('d', 4) ('d', 0)]\n",
      " [('', 0) ('d', 6) ('h', 1) ... ('d', 6) ('h', 1) ('d', 2)]\n",
      " ...\n",
      " [('', 0) ('', 0) ('d', 5) ... ('d', 13) ('d', 10) ('d', 12)]\n",
      " [('', 0) ('d', 6) ('h', 1) ... ('d', 16) ('d', 13) ('hd', 8)]\n",
      " [('', 0) ('v', 1) ('d', 5) ... ('v', 11) ('d', 16) ('d', 12)]]\n"
     ]
    }
   ],
   "source": [
    "print(mat)"
   ]
  }
 ],
 "metadata": {
  "kernelspec": {
   "display_name": "Python 3",
   "language": "python",
   "name": "python3"
  },
  "language_info": {
   "codemirror_mode": {
    "name": "ipython",
    "version": 3
   },
   "file_extension": ".py",
   "mimetype": "text/x-python",
   "name": "python",
   "nbconvert_exporter": "python",
   "pygments_lexer": "ipython3",
   "version": "3.6.5"
  }
 },
 "nbformat": 4,
 "nbformat_minor": 2
}
